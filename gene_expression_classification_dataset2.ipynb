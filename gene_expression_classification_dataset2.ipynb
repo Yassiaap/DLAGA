{
  "cells": [
    {
      "cell_type": "markdown",
      "metadata": {
        "id": "view-in-github",
        "colab_type": "text"
      },
      "source": [
        "<a href=\"https://colab.research.google.com/github/Yassiaap/DLAGA/blob/code/gene_expression_classification_dataset2.ipynb\" target=\"_parent\"><img src=\"https://colab.research.google.com/assets/colab-badge.svg\" alt=\"Open In Colab\"/></a>"
      ]
    },
    {
      "cell_type": "markdown",
      "metadata": {
        "id": "cQVCEG5B2FLC"
      },
      "source": [
        "# connect google drive"
      ]
    },
    {
      "cell_type": "code",
      "execution_count": null,
      "metadata": {
        "colab": {
          "base_uri": "https://localhost:8080/"
        },
        "id": "m_vIpDgwYwew",
        "outputId": "d9270b0d-0536-4d5e-f629-143681282a51"
      },
      "outputs": [
        {
          "output_type": "stream",
          "name": "stdout",
          "text": [
            "Mounted at /content/drive\n"
          ]
        }
      ],
      "source": [
        "from google.colab import drive\n",
        "drive.mount('/content/drive')"
      ]
    },
    {
      "cell_type": "code",
      "execution_count": null,
      "metadata": {
        "colab": {
          "base_uri": "https://localhost:8080/"
        },
        "id": "lpRua_B2yWvv",
        "outputId": "62f51bdf-8bdb-4647-e758-270eedf9f44f"
      },
      "outputs": [
        {
          "output_type": "stream",
          "name": "stdout",
          "text": [
            "/content/drive/MyDrive/Gene\n"
          ]
        }
      ],
      "source": [
        "%cd /content/drive/MyDrive/Gene"
      ]
    },
    {
      "cell_type": "markdown",
      "metadata": {
        "id": "EUezuxvLr_k6"
      },
      "source": [
        "## import"
      ]
    },
    {
      "cell_type": "code",
      "execution_count": null,
      "metadata": {
        "id": "5AqZtNcFr_k-"
      },
      "outputs": [],
      "source": [
        "# Import all the libraries that we shall be using\n",
        "import numpy as np\n",
        "import pandas as pd\n",
        "\n",
        "import matplotlib.pyplot as plt\n",
        "import seaborn as sns\n",
        "from mpl_toolkits.mplot3d import Axes3D\n",
        "%matplotlib inline\n",
        "\n",
        "from sklearn.preprocessing import StandardScaler\n",
        "from sklearn.decomposition import PCA\n",
        "from sklearn.model_selection import GridSearchCV, cross_val_score\n",
        "from sklearn.metrics import accuracy_score, confusion_matrix\n",
        "from sklearn.cluster import KMeans\n",
        "from sklearn.svm import SVC\n",
        "from sklearn.linear_model import LogisticRegression\n",
        "from sklearn.naive_bayes import GaussianNB\n",
        "from sklearn.ensemble import RandomForestClassifier\n",
        "\n",
        "import xgboost as xgb\n",
        "\n",
        "from keras.models import Sequential\n",
        "from keras.layers import Dense\n",
        "from keras.callbacks import EarlyStopping\n",
        "import random\n",
        "random.seed(42)\n",
        "\n",
        "from google.colab import files\n",
        "\n"
      ]
    },
    {
      "cell_type": "code",
      "source": [
        "import numpy as np\n",
        "import pandas as pd\n",
        "import matplotlib.pyplot as plt\n",
        "import seaborn as sns\n",
        "from sklearn import linear_model, svm, model_selection, tree, ensemble, neighbors, preprocessing, base, metrics\n",
        "#import category_encoders\n",
        "import imblearn"
      ],
      "metadata": {
        "id": "KaFWinIA7Oiy"
      },
      "execution_count": null,
      "outputs": []
    },
    {
      "cell_type": "markdown",
      "metadata": {
        "id": "ZI1hXpz6OMps"
      },
      "source": [
        "# preprocessing"
      ]
    },
    {
      "cell_type": "markdown",
      "metadata": {
        "id": "ETyzMDmer_lF"
      },
      "source": [
        "Let's start by taking a look at our target, the ALL/AML label."
      ]
    },
    {
      "cell_type": "code",
      "execution_count": null,
      "metadata": {
        "colab": {
          "base_uri": "https://localhost:8080/",
          "height": 272
        },
        "id": "tfZQmAErr_lG",
        "outputId": "5fbafdaf-65a8-475d-8430-07e2141ecf85"
      },
      "outputs": [
        {
          "output_type": "stream",
          "name": "stdout",
          "text": [
            "(77, 7071)\n"
          ]
        },
        {
          "output_type": "execute_result",
          "data": {
            "text/plain": [
              "   A28102  AB000114_at  AB000115_at  AB000220_at  AB000409_at  AB000449_at  \\\n",
              "0      -1          -45          176           97          -57          233   \n",
              "1      25          -17          531          353          122          155   \n",
              "2      73           91          257           80          614          507   \n",
              "3     267           41          202          138          198          355   \n",
              "4      16           24          187           39          145          254   \n",
              "\n",
              "   AB000450_at  AB000460_at  AB000462_at  AB000464_at  ...  U58516_at  \\\n",
              "0          265          945           56          819  ...       1036   \n",
              "1          209         1688           42          639  ...       4254   \n",
              "2          760         2252          196          863  ...       1934   \n",
              "3          245         1469          170          384  ...       2469   \n",
              "4          571          930          -11          439  ...        608   \n",
              "\n",
              "   U73738_at  X06956_at  X16699_at  X83863_at  Z17240_at  L49218_f_at  \\\n",
              "0       -161       1523        -72        897        366            3   \n",
              "1        -75       6056        -68        737         81           -4   \n",
              "2       -129       2901         -9        946        450           38   \n",
              "3         93       2465       -119        339        321          -63   \n",
              "4        -39       1667        -87        721        213           15   \n",
              "\n",
              "   M71243_f_at  Z78285_f_at  class  \n",
              "0           76          -28  DLBCL  \n",
              "1           41          -45  DLBCL  \n",
              "2          164          -62  DLBCL  \n",
              "3           73          -13  DLBCL  \n",
              "4          155          -26  DLBCL  \n",
              "\n",
              "[5 rows x 7071 columns]"
            ],
            "text/html": [
              "\n",
              "  <div id=\"df-8c363ece-c0ad-4ec3-a833-fdb564f914dc\" class=\"colab-df-container\">\n",
              "    <div>\n",
              "<style scoped>\n",
              "    .dataframe tbody tr th:only-of-type {\n",
              "        vertical-align: middle;\n",
              "    }\n",
              "\n",
              "    .dataframe tbody tr th {\n",
              "        vertical-align: top;\n",
              "    }\n",
              "\n",
              "    .dataframe thead th {\n",
              "        text-align: right;\n",
              "    }\n",
              "</style>\n",
              "<table border=\"1\" class=\"dataframe\">\n",
              "  <thead>\n",
              "    <tr style=\"text-align: right;\">\n",
              "      <th></th>\n",
              "      <th>A28102</th>\n",
              "      <th>AB000114_at</th>\n",
              "      <th>AB000115_at</th>\n",
              "      <th>AB000220_at</th>\n",
              "      <th>AB000409_at</th>\n",
              "      <th>AB000449_at</th>\n",
              "      <th>AB000450_at</th>\n",
              "      <th>AB000460_at</th>\n",
              "      <th>AB000462_at</th>\n",
              "      <th>AB000464_at</th>\n",
              "      <th>...</th>\n",
              "      <th>U58516_at</th>\n",
              "      <th>U73738_at</th>\n",
              "      <th>X06956_at</th>\n",
              "      <th>X16699_at</th>\n",
              "      <th>X83863_at</th>\n",
              "      <th>Z17240_at</th>\n",
              "      <th>L49218_f_at</th>\n",
              "      <th>M71243_f_at</th>\n",
              "      <th>Z78285_f_at</th>\n",
              "      <th>class</th>\n",
              "    </tr>\n",
              "  </thead>\n",
              "  <tbody>\n",
              "    <tr>\n",
              "      <th>0</th>\n",
              "      <td>-1</td>\n",
              "      <td>-45</td>\n",
              "      <td>176</td>\n",
              "      <td>97</td>\n",
              "      <td>-57</td>\n",
              "      <td>233</td>\n",
              "      <td>265</td>\n",
              "      <td>945</td>\n",
              "      <td>56</td>\n",
              "      <td>819</td>\n",
              "      <td>...</td>\n",
              "      <td>1036</td>\n",
              "      <td>-161</td>\n",
              "      <td>1523</td>\n",
              "      <td>-72</td>\n",
              "      <td>897</td>\n",
              "      <td>366</td>\n",
              "      <td>3</td>\n",
              "      <td>76</td>\n",
              "      <td>-28</td>\n",
              "      <td>DLBCL</td>\n",
              "    </tr>\n",
              "    <tr>\n",
              "      <th>1</th>\n",
              "      <td>25</td>\n",
              "      <td>-17</td>\n",
              "      <td>531</td>\n",
              "      <td>353</td>\n",
              "      <td>122</td>\n",
              "      <td>155</td>\n",
              "      <td>209</td>\n",
              "      <td>1688</td>\n",
              "      <td>42</td>\n",
              "      <td>639</td>\n",
              "      <td>...</td>\n",
              "      <td>4254</td>\n",
              "      <td>-75</td>\n",
              "      <td>6056</td>\n",
              "      <td>-68</td>\n",
              "      <td>737</td>\n",
              "      <td>81</td>\n",
              "      <td>-4</td>\n",
              "      <td>41</td>\n",
              "      <td>-45</td>\n",
              "      <td>DLBCL</td>\n",
              "    </tr>\n",
              "    <tr>\n",
              "      <th>2</th>\n",
              "      <td>73</td>\n",
              "      <td>91</td>\n",
              "      <td>257</td>\n",
              "      <td>80</td>\n",
              "      <td>614</td>\n",
              "      <td>507</td>\n",
              "      <td>760</td>\n",
              "      <td>2252</td>\n",
              "      <td>196</td>\n",
              "      <td>863</td>\n",
              "      <td>...</td>\n",
              "      <td>1934</td>\n",
              "      <td>-129</td>\n",
              "      <td>2901</td>\n",
              "      <td>-9</td>\n",
              "      <td>946</td>\n",
              "      <td>450</td>\n",
              "      <td>38</td>\n",
              "      <td>164</td>\n",
              "      <td>-62</td>\n",
              "      <td>DLBCL</td>\n",
              "    </tr>\n",
              "    <tr>\n",
              "      <th>3</th>\n",
              "      <td>267</td>\n",
              "      <td>41</td>\n",
              "      <td>202</td>\n",
              "      <td>138</td>\n",
              "      <td>198</td>\n",
              "      <td>355</td>\n",
              "      <td>245</td>\n",
              "      <td>1469</td>\n",
              "      <td>170</td>\n",
              "      <td>384</td>\n",
              "      <td>...</td>\n",
              "      <td>2469</td>\n",
              "      <td>93</td>\n",
              "      <td>2465</td>\n",
              "      <td>-119</td>\n",
              "      <td>339</td>\n",
              "      <td>321</td>\n",
              "      <td>-63</td>\n",
              "      <td>73</td>\n",
              "      <td>-13</td>\n",
              "      <td>DLBCL</td>\n",
              "    </tr>\n",
              "    <tr>\n",
              "      <th>4</th>\n",
              "      <td>16</td>\n",
              "      <td>24</td>\n",
              "      <td>187</td>\n",
              "      <td>39</td>\n",
              "      <td>145</td>\n",
              "      <td>254</td>\n",
              "      <td>571</td>\n",
              "      <td>930</td>\n",
              "      <td>-11</td>\n",
              "      <td>439</td>\n",
              "      <td>...</td>\n",
              "      <td>608</td>\n",
              "      <td>-39</td>\n",
              "      <td>1667</td>\n",
              "      <td>-87</td>\n",
              "      <td>721</td>\n",
              "      <td>213</td>\n",
              "      <td>15</td>\n",
              "      <td>155</td>\n",
              "      <td>-26</td>\n",
              "      <td>DLBCL</td>\n",
              "    </tr>\n",
              "  </tbody>\n",
              "</table>\n",
              "<p>5 rows × 7071 columns</p>\n",
              "</div>\n",
              "    <div class=\"colab-df-buttons\">\n",
              "\n",
              "  <div class=\"colab-df-container\">\n",
              "    <button class=\"colab-df-convert\" onclick=\"convertToInteractive('df-8c363ece-c0ad-4ec3-a833-fdb564f914dc')\"\n",
              "            title=\"Convert this dataframe to an interactive table.\"\n",
              "            style=\"display:none;\">\n",
              "\n",
              "  <svg xmlns=\"http://www.w3.org/2000/svg\" height=\"24px\" viewBox=\"0 -960 960 960\">\n",
              "    <path d=\"M120-120v-720h720v720H120Zm60-500h600v-160H180v160Zm220 220h160v-160H400v160Zm0 220h160v-160H400v160ZM180-400h160v-160H180v160Zm440 0h160v-160H620v160ZM180-180h160v-160H180v160Zm440 0h160v-160H620v160Z\"/>\n",
              "  </svg>\n",
              "    </button>\n",
              "\n",
              "  <style>\n",
              "    .colab-df-container {\n",
              "      display:flex;\n",
              "      gap: 12px;\n",
              "    }\n",
              "\n",
              "    .colab-df-convert {\n",
              "      background-color: #E8F0FE;\n",
              "      border: none;\n",
              "      border-radius: 50%;\n",
              "      cursor: pointer;\n",
              "      display: none;\n",
              "      fill: #1967D2;\n",
              "      height: 32px;\n",
              "      padding: 0 0 0 0;\n",
              "      width: 32px;\n",
              "    }\n",
              "\n",
              "    .colab-df-convert:hover {\n",
              "      background-color: #E2EBFA;\n",
              "      box-shadow: 0px 1px 2px rgba(60, 64, 67, 0.3), 0px 1px 3px 1px rgba(60, 64, 67, 0.15);\n",
              "      fill: #174EA6;\n",
              "    }\n",
              "\n",
              "    .colab-df-buttons div {\n",
              "      margin-bottom: 4px;\n",
              "    }\n",
              "\n",
              "    [theme=dark] .colab-df-convert {\n",
              "      background-color: #3B4455;\n",
              "      fill: #D2E3FC;\n",
              "    }\n",
              "\n",
              "    [theme=dark] .colab-df-convert:hover {\n",
              "      background-color: #434B5C;\n",
              "      box-shadow: 0px 1px 3px 1px rgba(0, 0, 0, 0.15);\n",
              "      filter: drop-shadow(0px 1px 2px rgba(0, 0, 0, 0.3));\n",
              "      fill: #FFFFFF;\n",
              "    }\n",
              "  </style>\n",
              "\n",
              "    <script>\n",
              "      const buttonEl =\n",
              "        document.querySelector('#df-8c363ece-c0ad-4ec3-a833-fdb564f914dc button.colab-df-convert');\n",
              "      buttonEl.style.display =\n",
              "        google.colab.kernel.accessAllowed ? 'block' : 'none';\n",
              "\n",
              "      async function convertToInteractive(key) {\n",
              "        const element = document.querySelector('#df-8c363ece-c0ad-4ec3-a833-fdb564f914dc');\n",
              "        const dataTable =\n",
              "          await google.colab.kernel.invokeFunction('convertToInteractive',\n",
              "                                                    [key], {});\n",
              "        if (!dataTable) return;\n",
              "\n",
              "        const docLinkHtml = 'Like what you see? Visit the ' +\n",
              "          '<a target=\"_blank\" href=https://colab.research.google.com/notebooks/data_table.ipynb>data table notebook</a>'\n",
              "          + ' to learn more about interactive tables.';\n",
              "        element.innerHTML = '';\n",
              "        dataTable['output_type'] = 'display_data';\n",
              "        await google.colab.output.renderOutput(dataTable, element);\n",
              "        const docLink = document.createElement('div');\n",
              "        docLink.innerHTML = docLinkHtml;\n",
              "        element.appendChild(docLink);\n",
              "      }\n",
              "    </script>\n",
              "  </div>\n",
              "\n",
              "\n",
              "<div id=\"df-fc30420f-8c7f-4577-bdc3-0701f2d032e4\">\n",
              "  <button class=\"colab-df-quickchart\" onclick=\"quickchart('df-fc30420f-8c7f-4577-bdc3-0701f2d032e4')\"\n",
              "            title=\"Suggest charts\"\n",
              "            style=\"display:none;\">\n",
              "\n",
              "<svg xmlns=\"http://www.w3.org/2000/svg\" height=\"24px\"viewBox=\"0 0 24 24\"\n",
              "     width=\"24px\">\n",
              "    <g>\n",
              "        <path d=\"M19 3H5c-1.1 0-2 .9-2 2v14c0 1.1.9 2 2 2h14c1.1 0 2-.9 2-2V5c0-1.1-.9-2-2-2zM9 17H7v-7h2v7zm4 0h-2V7h2v10zm4 0h-2v-4h2v4z\"/>\n",
              "    </g>\n",
              "</svg>\n",
              "  </button>\n",
              "\n",
              "<style>\n",
              "  .colab-df-quickchart {\n",
              "      --bg-color: #E8F0FE;\n",
              "      --fill-color: #1967D2;\n",
              "      --hover-bg-color: #E2EBFA;\n",
              "      --hover-fill-color: #174EA6;\n",
              "      --disabled-fill-color: #AAA;\n",
              "      --disabled-bg-color: #DDD;\n",
              "  }\n",
              "\n",
              "  [theme=dark] .colab-df-quickchart {\n",
              "      --bg-color: #3B4455;\n",
              "      --fill-color: #D2E3FC;\n",
              "      --hover-bg-color: #434B5C;\n",
              "      --hover-fill-color: #FFFFFF;\n",
              "      --disabled-bg-color: #3B4455;\n",
              "      --disabled-fill-color: #666;\n",
              "  }\n",
              "\n",
              "  .colab-df-quickchart {\n",
              "    background-color: var(--bg-color);\n",
              "    border: none;\n",
              "    border-radius: 50%;\n",
              "    cursor: pointer;\n",
              "    display: none;\n",
              "    fill: var(--fill-color);\n",
              "    height: 32px;\n",
              "    padding: 0;\n",
              "    width: 32px;\n",
              "  }\n",
              "\n",
              "  .colab-df-quickchart:hover {\n",
              "    background-color: var(--hover-bg-color);\n",
              "    box-shadow: 0 1px 2px rgba(60, 64, 67, 0.3), 0 1px 3px 1px rgba(60, 64, 67, 0.15);\n",
              "    fill: var(--button-hover-fill-color);\n",
              "  }\n",
              "\n",
              "  .colab-df-quickchart-complete:disabled,\n",
              "  .colab-df-quickchart-complete:disabled:hover {\n",
              "    background-color: var(--disabled-bg-color);\n",
              "    fill: var(--disabled-fill-color);\n",
              "    box-shadow: none;\n",
              "  }\n",
              "\n",
              "  .colab-df-spinner {\n",
              "    border: 2px solid var(--fill-color);\n",
              "    border-color: transparent;\n",
              "    border-bottom-color: var(--fill-color);\n",
              "    animation:\n",
              "      spin 1s steps(1) infinite;\n",
              "  }\n",
              "\n",
              "  @keyframes spin {\n",
              "    0% {\n",
              "      border-color: transparent;\n",
              "      border-bottom-color: var(--fill-color);\n",
              "      border-left-color: var(--fill-color);\n",
              "    }\n",
              "    20% {\n",
              "      border-color: transparent;\n",
              "      border-left-color: var(--fill-color);\n",
              "      border-top-color: var(--fill-color);\n",
              "    }\n",
              "    30% {\n",
              "      border-color: transparent;\n",
              "      border-left-color: var(--fill-color);\n",
              "      border-top-color: var(--fill-color);\n",
              "      border-right-color: var(--fill-color);\n",
              "    }\n",
              "    40% {\n",
              "      border-color: transparent;\n",
              "      border-right-color: var(--fill-color);\n",
              "      border-top-color: var(--fill-color);\n",
              "    }\n",
              "    60% {\n",
              "      border-color: transparent;\n",
              "      border-right-color: var(--fill-color);\n",
              "    }\n",
              "    80% {\n",
              "      border-color: transparent;\n",
              "      border-right-color: var(--fill-color);\n",
              "      border-bottom-color: var(--fill-color);\n",
              "    }\n",
              "    90% {\n",
              "      border-color: transparent;\n",
              "      border-bottom-color: var(--fill-color);\n",
              "    }\n",
              "  }\n",
              "</style>\n",
              "\n",
              "  <script>\n",
              "    async function quickchart(key) {\n",
              "      const quickchartButtonEl =\n",
              "        document.querySelector('#' + key + ' button');\n",
              "      quickchartButtonEl.disabled = true;  // To prevent multiple clicks.\n",
              "      quickchartButtonEl.classList.add('colab-df-spinner');\n",
              "      try {\n",
              "        const charts = await google.colab.kernel.invokeFunction(\n",
              "            'suggestCharts', [key], {});\n",
              "      } catch (error) {\n",
              "        console.error('Error during call to suggestCharts:', error);\n",
              "      }\n",
              "      quickchartButtonEl.classList.remove('colab-df-spinner');\n",
              "      quickchartButtonEl.classList.add('colab-df-quickchart-complete');\n",
              "    }\n",
              "    (() => {\n",
              "      let quickchartButtonEl =\n",
              "        document.querySelector('#df-fc30420f-8c7f-4577-bdc3-0701f2d032e4 button');\n",
              "      quickchartButtonEl.style.display =\n",
              "        google.colab.kernel.accessAllowed ? 'block' : 'none';\n",
              "    })();\n",
              "  </script>\n",
              "</div>\n",
              "\n",
              "    </div>\n",
              "  </div>\n"
            ],
            "application/vnd.google.colaboratory.intrinsic+json": {
              "type": "dataframe",
              "variable_name": "df"
            }
          },
          "metadata": {},
          "execution_count": 32
        }
      ],
      "source": [
        "# Import labels (for the whole dataset, both training and testing)\n",
        "df = pd.read_csv('DLBCL.csv')\n",
        "print(df.shape)\n",
        "df.head()"
      ]
    },
    {
      "cell_type": "markdown",
      "metadata": {
        "id": "Iu7ltjP8r_lH"
      },
      "source": [
        "In the combined training and testing sets there are 72 patients, each of whom are labelled either \"ALL\" or \"AML\" depending on the type of leukemia they have. Here's the breakdown:"
      ]
    },
    {
      "cell_type": "code",
      "execution_count": null,
      "metadata": {
        "colab": {
          "base_uri": "https://localhost:8080/"
        },
        "id": "5NayDh5Mr_lI",
        "outputId": "ae216976-c47f-428b-c113-18610b770d17"
      },
      "outputs": [
        {
          "output_type": "execute_result",
          "data": {
            "text/plain": [
              "0    58\n",
              "1    19\n",
              "Name: class, dtype: int64"
            ]
          },
          "metadata": {},
          "execution_count": 11
        }
      ],
      "source": [
        "df['class'].value_counts()"
      ]
    },
    {
      "cell_type": "markdown",
      "metadata": {
        "id": "GodvX5Dgr_lJ"
      },
      "source": [
        "We actually need our labels to be numeric, so let's just do that now."
      ]
    },
    {
      "cell_type": "code",
      "execution_count": null,
      "metadata": {
        "id": "pWtAWQ9gr_lJ"
      },
      "outputs": [],
      "source": [
        "# Recode label to numeric\n",
        "df = df.replace({'DLBCL':0,'FL':1})\n",
        "labels = ['DLBCL', 'FL'] # for plotting convenience later on"
      ]
    },
    {
      "cell_type": "code",
      "source": [
        "X = df.drop('class', axis = 1).values\n",
        "y = df['class'].values\n",
        "\n",
        "print(X.shape, y.shape)"
      ],
      "metadata": {
        "colab": {
          "base_uri": "https://localhost:8080/"
        },
        "id": "i06pJhtC4IPg",
        "outputId": "482d31fb-45b5-40c8-a990-d0e5518b3a85"
      },
      "execution_count": null,
      "outputs": [
        {
          "output_type": "stream",
          "name": "stdout",
          "text": [
            "(77, 7070) (77,)\n"
          ]
        }
      ]
    },
    {
      "cell_type": "code",
      "source": [
        "# Splitting the data into testing and training data (Stratified Splitting)\n",
        "\n",
        "X_train, X_test, y_train, y_test = model_selection.train_test_split(X, y, test_size = 0.2, random_state = 0, stratify = y)\n",
        "\n",
        "print(X_train.shape, X_test.shape)"
      ],
      "metadata": {
        "colab": {
          "base_uri": "https://localhost:8080/"
        },
        "id": "MQddu8by6_gd",
        "outputId": "b3b3f2b1-60b6-439b-a1e8-ee4bec6544ea"
      },
      "execution_count": null,
      "outputs": [
        {
          "output_type": "stream",
          "name": "stdout",
          "text": [
            "(61, 7070) (16, 7070)\n"
          ]
        }
      ]
    },
    {
      "cell_type": "code",
      "source": [
        "ychecktrain=y_train\n",
        "ychecktest=y_test\n",
        "Xchechtrain=X_train\n",
        "Xchechtest=X_test"
      ],
      "metadata": {
        "id": "FB6cthJv7hQb"
      },
      "execution_count": null,
      "outputs": []
    },
    {
      "cell_type": "markdown",
      "metadata": {
        "id": "cxGQC21Xr_lf"
      },
      "source": [
        "# normalization\n",
        "Clearly there is some variation in the scales across the different features. Many machine learning models work much better with data that's on the same scale, so let's create a scaled version of the dataset."
      ]
    },
    {
      "cell_type": "code",
      "execution_count": null,
      "metadata": {
        "id": "3wuXrIKor_lf"
      },
      "outputs": [],
      "source": [
        "\n",
        "# Convert from integer to float\n",
        "\n",
        "X_train_fl = X_train.astype(float)\n",
        "X_test_fl = X_test.astype(float)\n",
        "\n",
        "\n",
        "\n",
        "# Apply the same scaling to both datasets\n",
        "from sklearn.preprocessing import RobustScaler\n",
        "transformer = RobustScaler().fit(X_train_fl)\n",
        "X_train=transformer.transform(X_train_fl)\n",
        "transformer = RobustScaler().fit(X_test_fl)\n",
        "X_test=transformer.transform(X_test_fl)\n",
        "\n",
        "#scaler = StandardScaler()\n",
        "##X_train = scaler.fit_transform(X_train)\n",
        "\n",
        "#X_test = scaler.transform(X_test) # note that we transform rather than fit_transform\n",
        "#print(X_test)"
      ]
    },
    {
      "cell_type": "code",
      "execution_count": null,
      "metadata": {
        "id": "6z5E052T4dv3"
      },
      "outputs": [],
      "source": [
        "\n",
        "X_train_m=X_train\n",
        "X_test_m=X_test\n",
        "y_train_m=y_train\n",
        "y_test_m=y_test"
      ]
    },
    {
      "cell_type": "markdown",
      "metadata": {
        "id": "SPn03wh77mZe"
      },
      "source": [
        "# VAE"
      ]
    },
    {
      "cell_type": "code",
      "execution_count": null,
      "metadata": {
        "colab": {
          "base_uri": "https://localhost:8080/"
        },
        "id": "wsz5y_Li7mZg",
        "outputId": "ea3cb815-af4f-4c0d-8ece-8bae75d046de"
      },
      "outputs": [
        {
          "output_type": "stream",
          "name": "stdout",
          "text": [
            "(7070, 61)\n",
            "(7070, 16)\n",
            "61\n"
          ]
        }
      ],
      "source": [
        "X_train = X_train.T\n",
        "X_test  = X_test.T\n",
        "\n",
        "#print(X_train.info())\n",
        "print(X_train.shape)\n",
        "#X_train.head(5)\n",
        "\n",
        "#print(X_test.info())\n",
        "print(X_test.shape)\n",
        "#X_test.head(5)\n",
        "print (X_train.shape[1])"
      ]
    },
    {
      "cell_type": "code",
      "execution_count": null,
      "metadata": {
        "colab": {
          "base_uri": "https://localhost:8080/"
        },
        "id": "RUfmYWkc7mZh",
        "outputId": "7a9c9e90-4d6c-44b5-bfb0-e8986375f4b3"
      },
      "outputs": [
        {
          "output_type": "stream",
          "name": "stdout",
          "text": [
            "61\n"
          ]
        }
      ],
      "source": [
        "num_out_train=  X_train.shape[1]\n",
        "num_out_test =  X_test.shape[1]\n",
        "\n",
        "print(num_out_train)\n"
      ]
    },
    {
      "cell_type": "markdown",
      "metadata": {
        "id": "-0ggDzw3RYm_"
      },
      "source": [
        "# vae"
      ]
    },
    {
      "cell_type": "code",
      "execution_count": null,
      "metadata": {
        "colab": {
          "base_uri": "https://localhost:8080/"
        },
        "id": "OM6SMsGM7mZi",
        "outputId": "c3ee96e5-6823-4e71-8c9c-ba9cc7feda09"
      },
      "outputs": [
        {
          "output_type": "stream",
          "name": "stdout",
          "text": [
            "Model: \"vae\"\n",
            "__________________________________________________________________________________________________\n",
            " Layer (type)                Output Shape                 Param #   Connected to                  \n",
            "==================================================================================================\n",
            " input_4 (InputLayer)        [(None, 61)]                 0         []                            \n",
            "                                                                                                  \n",
            " encoder (Functional)        [(None, 2),                  4228      ['input_4[0][0]']             \n",
            "                              (None, 2),                                                          \n",
            "                              (None, 2)]                                                          \n",
            "                                                                                                  \n",
            " decoder (Functional)        (None, 61)                   4157      ['encoder[0][2]']             \n",
            "                                                                                                  \n",
            " dense_7 (Dense)             (None, 64)                   3968      ['input_4[0][0]']             \n",
            "                                                                                                  \n",
            " dense_9 (Dense)             (None, 2)                    130       ['dense_7[0][0]']             \n",
            "                                                                                                  \n",
            " dense_8 (Dense)             (None, 2)                    130       ['dense_7[0][0]']             \n",
            "                                                                                                  \n",
            " tf.__operators__.add (TFOp  (None, 2)                    0         ['dense_9[0][0]']             \n",
            " Lambda)                                                                                          \n",
            "                                                                                                  \n",
            " tf.math.square (TFOpLambda  (None, 2)                    0         ['dense_8[0][0]']             \n",
            " )                                                                                                \n",
            "                                                                                                  \n",
            " tf.cast (TFOpLambda)        (None, 61)                   0         ['input_4[0][0]']             \n",
            "                                                                                                  \n",
            " tf.convert_to_tensor (TFOp  (None, 61)                   0         ['decoder[0][0]']             \n",
            " Lambda)                                                                                          \n",
            "                                                                                                  \n",
            " tf.math.subtract (TFOpLamb  (None, 2)                    0         ['tf.__operators__.add[0][0]',\n",
            " da)                                                                 'tf.math.square[0][0]']      \n",
            "                                                                                                  \n",
            " tf.math.exp (TFOpLambda)    (None, 2)                    0         ['dense_9[0][0]']             \n",
            "                                                                                                  \n",
            " tf.keras.backend.binary_cr  (None, 61)                   0         ['tf.cast[0][0]',             \n",
            " ossentropy (TFOpLambda)                                             'tf.convert_to_tensor[0][0]']\n",
            "                                                                                                  \n",
            " tf.math.subtract_1 (TFOpLa  (None, 2)                    0         ['tf.math.subtract[0][0]',    \n",
            " mbda)                                                               'tf.math.exp[0][0]']         \n",
            "                                                                                                  \n",
            " tf.math.reduce_mean (TFOpL  (None,)                      0         ['tf.keras.backend.binary_cros\n",
            " ambda)                                                             sentropy[0][0]']              \n",
            "                                                                                                  \n",
            " tf.math.reduce_mean_1 (TFO  (None,)                      0         ['tf.math.subtract_1[0][0]']  \n",
            " pLambda)                                                                                         \n",
            "                                                                                                  \n",
            " tf.math.multiply (TFOpLamb  (None,)                      0         ['tf.math.reduce_mean[0][0]'] \n",
            " da)                                                                                              \n",
            "                                                                                                  \n",
            " tf.math.multiply_1 (TFOpLa  (None,)                      0         ['tf.math.reduce_mean_1[0][0]'\n",
            " mbda)                                                              ]                             \n",
            "                                                                                                  \n",
            " tf.__operators__.add_1 (TF  (None,)                      0         ['tf.math.multiply[0][0]',    \n",
            " OpLambda)                                                           'tf.math.multiply_1[0][0]']  \n",
            "                                                                                                  \n",
            " tf.math.reduce_mean_2 (TFO  ()                           0         ['tf.__operators__.add_1[0][0]\n",
            " pLambda)                                                           ']                            \n",
            "                                                                                                  \n",
            " add_loss (AddLoss)          ()                           0         ['tf.math.reduce_mean_2[0][0]'\n",
            "                                                                    ]                             \n",
            "                                                                                                  \n",
            "==================================================================================================\n",
            "Total params: 8385 (32.75 KB)\n",
            "Trainable params: 8385 (32.75 KB)\n",
            "Non-trainable params: 0 (0.00 Byte)\n",
            "__________________________________________________________________________________________________\n"
          ]
        }
      ],
      "source": [
        "import numpy as np\n",
        "import tensorflow as tf\n",
        "from tensorflow import keras\n",
        "from tensorflow.keras import layers\n",
        "from keras.layers import LeakyReLU\n",
        "from tensorflow.keras.layers import BatchNormalization\n",
        "from tensorflow.keras.layers import Dropout\n",
        "\n",
        "\n",
        "\n",
        "latent_dim = 2 # Define the dimension of the latent space\n",
        "def sampling(args):\n",
        "    z_mean, z_log_var = args\n",
        "    epsilon = tf.keras.backend.random_normal(shape=tf.shape(z_mean))\n",
        "    return z_mean + tf.exp(0.5 * z_log_var) * epsilon\n",
        "\n",
        "\n",
        "\n",
        "\n",
        "input_dim = X_train.shape[1]  # Number of input features\n",
        "encoding_dim = 16  # Number of neurons in the bottleneck layer\n",
        "\n",
        "\n",
        "# Encoder\n",
        "encoder_inputs = keras.Input(shape=(input_dim))\n",
        "\n",
        "x = layers.Dense(64,activation=\"relu\")(encoder_inputs)\n",
        "\n",
        "#x=layers.Dense(BatchNormalization())(x)\n",
        "z_mean = layers.Dense(latent_dim)(x)\n",
        "z_log_var = layers.Dense(latent_dim)(x)\n",
        "z = layers.Lambda(sampling)([z_mean, z_log_var])\n",
        "encoder = keras.Model(encoder_inputs, [z_mean, z_log_var, z], name=\"encoder\")\n",
        "\n",
        "# Decoder\n",
        "latent_inputs = keras.Input(shape=(latent_dim,))\n",
        "x = layers.Dense(64, activation=\"relu\")(latent_inputs)\n",
        "#x=layers.Dense(Dropout(0.5))(x)\n",
        "decoder_outputs = layers.Dense(num_out_train, activation=\"relu\")(x)\n",
        "\n",
        "\n",
        "decoder = keras.Model(latent_inputs, decoder_outputs, name=\"decoder\")\n",
        "\n",
        "# VAE\n",
        "outputs = decoder(encoder(encoder_inputs)[2])\n",
        "vae = keras.Model(encoder_inputs, outputs, name=\"vae\")\n",
        "\n",
        "# Define the loss function\n",
        "reconstruction_loss = tf.keras.losses.binary_crossentropy(encoder_inputs, outputs)\n",
        "reconstruction_loss *= num_out_train# Adjust the scaling factor based on the number of features\n",
        "kl_loss = 1 + z_log_var - tf.square(z_mean) - tf.exp(z_log_var)\n",
        "kl_loss = tf.reduce_mean(kl_loss, axis=-1)\n",
        "kl_loss *= -0.5\n",
        "vae_loss = tf.reduce_mean(reconstruction_loss + kl_loss)\n",
        "vae.add_loss(vae_loss)\n",
        "\n",
        "# Define the learning rate\n",
        "#learning_rate = 0.001\n",
        "\n",
        "# Create an optimizer with the specified learning rate\n",
        "#optimizer = keras.optimizers.Adam(learning_rate=learning_rate)\n",
        "\n",
        "\n",
        "vae.compile(optimizer='Adam', metrics=['accuracy'])\n",
        "vae.summary()"
      ]
    },
    {
      "cell_type": "code",
      "execution_count": null,
      "metadata": {
        "colab": {
          "base_uri": "https://localhost:8080/"
        },
        "id": "hMBAWP1b7mZj",
        "outputId": "f016bf87-9e91-4f74-9eef-5617be9c4890"
      },
      "outputs": [
        {
          "output_type": "stream",
          "name": "stdout",
          "text": [
            "Epoch 1/10\n",
            "1414/1414 [==============================] - 8s 5ms/step - loss: -35.7772 - accuracy: 0.1409 - val_loss: -54.9173 - val_accuracy: 0.0771\n",
            "Epoch 2/10\n",
            "1414/1414 [==============================] - 5s 4ms/step - loss: -63.2228 - accuracy: 0.1174 - val_loss: -81.4818 - val_accuracy: 0.1018\n",
            "Epoch 3/10\n",
            "1414/1414 [==============================] - 4s 3ms/step - loss: -77.9048 - accuracy: 0.1678 - val_loss: -75.6316 - val_accuracy: 0.1358\n",
            "Epoch 4/10\n",
            "1414/1414 [==============================] - 4s 3ms/step - loss: -86.7007 - accuracy: 0.1844 - val_loss: -87.8715 - val_accuracy: 0.1648\n",
            "Epoch 5/10\n",
            "1414/1414 [==============================] - 5s 4ms/step - loss: -88.9301 - accuracy: 0.1754 - val_loss: -94.4620 - val_accuracy: 0.1450\n",
            "Epoch 6/10\n",
            "1414/1414 [==============================] - 4s 3ms/step - loss: -98.0641 - accuracy: 0.1669 - val_loss: -102.9164 - val_accuracy: 0.1436\n",
            "Epoch 7/10\n",
            "1414/1414 [==============================] - 4s 3ms/step - loss: -100.7268 - accuracy: 0.1795 - val_loss: -102.0985 - val_accuracy: 0.1393\n",
            "Epoch 8/10\n",
            "1414/1414 [==============================] - 5s 4ms/step - loss: -103.5528 - accuracy: 0.1963 - val_loss: -103.0179 - val_accuracy: 0.1591\n",
            "Epoch 9/10\n",
            "1414/1414 [==============================] - 4s 3ms/step - loss: -112.1847 - accuracy: 0.1955 - val_loss: -91.4276 - val_accuracy: 0.1563\n",
            "Epoch 10/10\n",
            "1414/1414 [==============================] - 4s 3ms/step - loss: -110.5339 - accuracy: 0.1959 - val_loss: -97.0579 - val_accuracy: 0.1429\n"
          ]
        }
      ],
      "source": [
        "\n",
        "history = vae.fit(X_train, X_train, epochs=10, batch_size=4, validation_split=0.2)\n"
      ]
    },
    {
      "cell_type": "code",
      "execution_count": null,
      "metadata": {
        "colab": {
          "base_uri": "https://localhost:8080/",
          "height": 607
        },
        "id": "gCzbt3pYSVFp",
        "outputId": "58bffc74-5449-41fb-d2b3-63c9708d3d0f"
      },
      "outputs": [
        {
          "output_type": "display_data",
          "data": {
            "text/plain": [
              "<Figure size 1000x600 with 2 Axes>"
            ],
            "image/png": "[encoded data removed]"
          },
          "metadata": {}
        }
      ],
      "source": [
        "import matplotlib.pyplot as plt\n",
        "\n",
        "# Assuming you have a 'history' object containing training/validation accuracy and loss\n",
        "plt.figure(figsize=(10, 6))\n",
        "\n",
        "# Plot training and validation accuracy\n",
        "plt.subplot(1, 2, 1)\n",
        "plt.plot(history.history['accuracy'], label='Training Accuracy', color='b')\n",
        "plt.plot(history.history['val_accuracy'], label='Validation Accuracy', color='r')\n",
        "plt.title('Model Accuracy')\n",
        "plt.xlabel('Epochs')\n",
        "plt.ylabel('Accuracy')\n",
        "plt.legend()\n",
        "\n",
        "# Plot training and validation loss\n",
        "plt.subplot(1, 2, 2)\n",
        "plt.plot(history.history['loss'], label='Training Loss', color='b')\n",
        "plt.plot(history.history['val_loss'], label='Validation Loss', color='r')\n",
        "plt.title('Model Loss')\n",
        "plt.xlabel('Epochs')\n",
        "plt.ylabel('Loss')\n",
        "plt.legend()\n",
        "\n",
        "plt.tight_layout()\n",
        "plt.show()\n"
      ]
    },
    {
      "cell_type": "code",
      "execution_count": null,
      "metadata": {
        "colab": {
          "base_uri": "https://localhost:8080/"
        },
        "id": "aJXMAaM2EaPe",
        "outputId": "dba50267-3519-4e17-cf3a-bd4fb08e1d3f"
      },
      "outputs": [
        {
          "output_type": "stream",
          "name": "stdout",
          "text": [
            "221/221 [==============================] - 0s 2ms/step\n",
            "[   3    4    5 ... 7058 7060 7065]\n",
            "(3535, 61)\n",
            "[[ 1.472       3.224      -0.568      ...  0.976      -0.288\n",
            "  -0.072     ]\n",
            " [-0.85897436  1.67948718  1.32051282 ...  5.69230769 -0.03846154\n",
            "   0.25641026]\n",
            " [-0.07665505  3.81184669 -0.21254355 ...  0.40766551  0.68641115\n",
            "  -0.15679443]\n",
            " ...\n",
            " [-0.92519685 -5.33858268  0.07086614 ... -1.65748031  0.19685039\n",
            "   0.24409449]\n",
            " [-0.64583333 -7.28125     1.58333333 ... -3.1875      0.5\n",
            "   0.01041667]\n",
            " [-0.80508475 -6.98728814  0.11440678 ... -2.76271186  0.13559322\n",
            "  -0.01271186]]\n"
          ]
        }
      ],
      "source": [
        "# Reconstruct the testing data\n",
        "\n",
        "reconstructed_datat = vae.predict(X_train)\n",
        "\n",
        "# Calculate the reconstruction loss for each sample\n",
        "reconstruction_losst = np.mean(np.square(X_train - reconstructed_datat), axis=1)\n",
        "\n",
        "# Set a threshold to identify outliers\n",
        "threshold = np.percentile(reconstruction_losst,50)  # Adjust the percentile as needed\n",
        "\n",
        "# Identify the outliers\n",
        "outlier_indicest= np.where(reconstruction_losst < threshold)[0]\n",
        "\n",
        "outlier_datat = X_train[outlier_indicest]\n",
        "#outlier_featuresname1 =np.array(outlier_data)[outlier_indicest[1]]\n",
        "\n",
        "#print(outlier_datat)\n",
        "print(outlier_indicest)\n",
        "#print(outlier_featuresname1)\n",
        "\"\"\"\n",
        "def convert_data(data_list,outlier_indicest):\n",
        "    result = []\n",
        "    indexx=0\n",
        "    for index, value in enumerate(data_list):\n",
        "        if (outlier_indicest[indexx]== index):\n",
        "            result.append(1)\n",
        "            data_list[index]=1  # If index is even, add 0\n",
        "            indexx=indexx+1\n",
        "        else:\n",
        "            result.append(0)  # If index is odd, keep the original value\n",
        "            data_list[index]=0\n",
        "    return data_list\n",
        "\n",
        "# Example usage:\n",
        "\n",
        "converted_data = convert_data(X_train,outlier_indicest)\n",
        "#print(f\"Original data: {X_train}\")\n",
        "print(f\"Converted data: {converted_data}\")\n",
        "print(converted_data.shape)\"\"\"\n",
        "print(outlier_datat.shape)\n",
        "print(X_train)"
      ]
    },
    {
      "cell_type": "code",
      "execution_count": null,
      "metadata": {
        "colab": {
          "base_uri": "https://localhost:8080/"
        },
        "id": "9IPqaI065ts2",
        "outputId": "c259b3f7-e037-4981-e251-fdbc7b277191"
      },
      "outputs": [
        {
          "output_type": "stream",
          "name": "stdout",
          "text": [
            "(61, 3535)\n",
            "[[ 1.472       3.224      -0.568      ...  0.976      -0.288\n",
            "  -0.072     ]\n",
            " [-0.85897436  1.67948718  1.32051282 ...  5.69230769 -0.03846154\n",
            "   0.25641026]\n",
            " [-0.07665505  3.81184669 -0.21254355 ...  0.40766551  0.68641115\n",
            "  -0.15679443]\n",
            " ...\n",
            " [-0.92519685 -5.33858268  0.07086614 ... -1.65748031  0.19685039\n",
            "   0.24409449]\n",
            " [-0.64583333 -7.28125     1.58333333 ... -3.1875      0.5\n",
            "   0.01041667]\n",
            " [-0.80508475 -6.98728814  0.11440678 ... -2.76271186  0.13559322\n",
            "  -0.01271186]]\n"
          ]
        }
      ],
      "source": [
        "print(outlier_datat.shape)\n",
        "print(X_train)"
      ]
    },
    {
      "cell_type": "code",
      "execution_count": null,
      "metadata": {
        "colab": {
          "base_uri": "https://localhost:8080/"
        },
        "id": "nVvepw7X-f7y",
        "outputId": "6f39287c-120e-4e86-eaac-3b9e400d3cd7"
      },
      "outputs": [
        {
          "output_type": "stream",
          "name": "stdout",
          "text": [
            "151\n",
            "(151, 7070)\n"
          ]
        }
      ],
      "source": [
        "X_test_t = X_test.T\n",
        "\n",
        "print(X_test_t.shape[1])\n",
        "print(X_test.shape)"
      ]
    },
    {
      "cell_type": "code",
      "execution_count": null,
      "metadata": {
        "colab": {
          "base_uri": "https://localhost:8080/"
        },
        "id": "ISVopzsD_60Z",
        "outputId": "e30273ac-6aba-4a31-93e2-17e823fd2f1a"
      },
      "outputs": [
        {
          "output_type": "stream",
          "name": "stdout",
          "text": [
            "-7009\n",
            "7070\n",
            "(196, 7070)\n",
            "(151, 7070)\n"
          ]
        }
      ],
      "source": [
        "Rowadd=len(X_train[0])-len(X_test[0])\n",
        "print(Rowadd)\n",
        "print(X_test_t.shape[1])\n",
        "print(X_test_t.shape)\n",
        "print(X_test.shape)\n",
        "#print(df2)\n"
      ]
    },
    {
      "cell_type": "code",
      "source": [],
      "metadata": {
        "id": "udgwd21KYYlW"
      },
      "execution_count": null,
      "outputs": []
    },
    {
      "cell_type": "code",
      "execution_count": null,
      "metadata": {
        "colab": {
          "base_uri": "https://localhost:8080/",
          "height": 228
        },
        "id": "Qm4AFL1R8sJR",
        "outputId": "0b0250f0-4164-473a-9cb9-1b99d4b9666a"
      },
      "outputs": [
        {
          "output_type": "error",
          "ename": "ValueError",
          "evalue": "all the input array dimensions except for the concatenation axis must match exactly, but along dimension 1, the array at index 0 has size 7070 and the array at index 1 has size 196",
          "traceback": [
            "\u001b[0;31m---------------------------------------------------------------------------\u001b[0m",
            "\u001b[0;31mValueError\u001b[0m                                Traceback (most recent call last)",
            "\u001b[0;32m<ipython-input-166-333a9c36ea56>\u001b[0m in \u001b[0;36m<cell line: 3>\u001b[0;34m()\u001b[0m\n\u001b[1;32m      1\u001b[0m \u001b[0mdf2\u001b[0m \u001b[0;34m=\u001b[0m \u001b[0mpd\u001b[0m\u001b[0;34m.\u001b[0m\u001b[0mDataFrame\u001b[0m\u001b[0;34m(\u001b[0m\u001b[0;34m[\u001b[0m\u001b[0;34m[\u001b[0m\u001b[0;36m0\u001b[0m\u001b[0;34m]\u001b[0m\u001b[0;34m*\u001b[0m\u001b[0mX_test_t\u001b[0m\u001b[0;34m.\u001b[0m\u001b[0mshape\u001b[0m\u001b[0;34m[\u001b[0m\u001b[0;36m0\u001b[0m\u001b[0;34m]\u001b[0m\u001b[0;34m]\u001b[0m\u001b[0;34m*\u001b[0m\u001b[0mRowadd\u001b[0m\u001b[0;34m)\u001b[0m\u001b[0;34m\u001b[0m\u001b[0;34m\u001b[0m\u001b[0m\n\u001b[1;32m      2\u001b[0m \u001b[0;34m\u001b[0m\u001b[0m\n\u001b[0;32m----> 3\u001b[0;31m \u001b[0mX_test_t\u001b[0m \u001b[0;34m=\u001b[0m \u001b[0mnp\u001b[0m\u001b[0;34m.\u001b[0m\u001b[0mconcatenate\u001b[0m\u001b[0;34m(\u001b[0m\u001b[0;34m[\u001b[0m\u001b[0mX_test_t\u001b[0m\u001b[0;34m,\u001b[0m\u001b[0mdf2\u001b[0m\u001b[0;34m]\u001b[0m\u001b[0;34m)\u001b[0m\u001b[0;34m\u001b[0m\u001b[0;34m\u001b[0m\u001b[0m\n\u001b[0m\u001b[1;32m      4\u001b[0m \u001b[0mprint\u001b[0m\u001b[0;34m(\u001b[0m\u001b[0mdf2\u001b[0m\u001b[0;34m.\u001b[0m\u001b[0mshape\u001b[0m\u001b[0;34m)\u001b[0m\u001b[0;34m\u001b[0m\u001b[0;34m\u001b[0m\u001b[0m\n\u001b[1;32m      5\u001b[0m \u001b[0mprint\u001b[0m\u001b[0;34m(\u001b[0m\u001b[0mX_test_t\u001b[0m\u001b[0;34m.\u001b[0m\u001b[0mshape\u001b[0m\u001b[0;34m)\u001b[0m\u001b[0;34m\u001b[0m\u001b[0;34m\u001b[0m\u001b[0m\n",
            "\u001b[0;31mValueError\u001b[0m: all the input array dimensions except for the concatenation axis must match exactly, but along dimension 1, the array at index 0 has size 7070 and the array at index 1 has size 196"
          ]
        }
      ],
      "source": [
        "\n",
        "\n",
        "df2 = pd.DataFrame([[0]*X_test_t.shape[1]]*Rowadd)\n",
        "\n",
        "X_test_t = np.concatenate([X_test_t,df2])\n",
        "print(df2.shape)\n",
        "print(X_test_t.shape)\n",
        "\n",
        "print(X_train.shape,X_test.shape,X_test_t.shape)\n",
        "\n",
        "\n",
        "\n"
      ]
    },
    {
      "cell_type": "code",
      "execution_count": null,
      "metadata": {
        "colab": {
          "base_uri": "https://localhost:8080/"
        },
        "id": "56bH4PLq8ZZL",
        "outputId": "3eccd078-dd60-44b0-ac92-f3f0e95279b4"
      },
      "outputs": [
        {
          "output_type": "stream",
          "name": "stdout",
          "text": [
            "(720,)\n",
            "(736,)\n",
            "(16,)\n"
          ]
        }
      ],
      "source": [
        "y_test_t=y_test.T\n",
        "df2 = pd.DataFrame([[0]*y_test_t.shape[0]]*Rowadd)\n",
        "A=np.array([0]*y_test_t.shape[0]*Rowadd)\n",
        "\n",
        "y_test_t = np.concatenate([y_test,A])\n",
        "print(A.shape)\n",
        "print(y_test_t.shape)\n",
        "print(y_test.shape)\n",
        "\n",
        "\n",
        "\n"
      ]
    },
    {
      "cell_type": "code",
      "execution_count": null,
      "metadata": {
        "colab": {
          "base_uri": "https://localhost:8080/"
        },
        "id": "0FtGGpgFDt1w",
        "outputId": "b9cc3759-0748-43f4-9626-39941263566d"
      },
      "outputs": [
        {
          "output_type": "stream",
          "name": "stdout",
          "text": [
            "(736,)\n"
          ]
        }
      ],
      "source": [
        "y_test2=y_test_t\n",
        "print(y_test2.shape)"
      ]
    },
    {
      "cell_type": "code",
      "execution_count": null,
      "metadata": {
        "colab": {
          "base_uri": "https://localhost:8080/"
        },
        "id": "JwOllIvHBGTL",
        "outputId": "0f1a99cf-2a98-4232-e949-e34908e6d02f"
      },
      "outputs": [
        {
          "output_type": "stream",
          "name": "stdout",
          "text": [
            "7070\n",
            "151\n"
          ]
        }
      ],
      "source": [
        "X_test = X_test_t.T\n",
        "\n",
        "print(X_test_t.shape[1])\n",
        "print(X_test.shape[1])"
      ]
    },
    {
      "cell_type": "code",
      "execution_count": null,
      "metadata": {
        "colab": {
          "base_uri": "https://localhost:8080/",
          "height": 1000
        },
        "id": "G7nh4TE-7mZk",
        "outputId": "017ce17a-536a-4c6a-abec-7de404598318"
      },
      "outputs": [
        {
          "output_type": "error",
          "ename": "InvalidArgumentError",
          "evalue": "Graph execution error:\n\nDetected at node vae/encoder/dense_7/Relu defined at (most recent call last):\n  File \"/usr/lib/python3.10/runpy.py\", line 196, in _run_module_as_main\n\n  File \"/usr/lib/python3.10/runpy.py\", line 86, in _run_code\n\n  File \"/usr/local/lib/python3.10/dist-packages/colab_kernel_launcher.py\", line 37, in <module>\n\n  File \"/usr/local/lib/python3.10/dist-packages/traitlets/config/application.py\", line 992, in launch_instance\n\n  File \"/usr/local/lib/python3.10/dist-packages/ipykernel/kernelapp.py\", line 619, in start\n\n  File \"/usr/local/lib/python3.10/dist-packages/tornado/platform/asyncio.py\", line 195, in start\n\n  File \"/usr/lib/python3.10/asyncio/base_events.py\", line 603, in run_forever\n\n  File \"/usr/lib/python3.10/asyncio/base_events.py\", line 1909, in _run_once\n\n  File \"/usr/lib/python3.10/asyncio/events.py\", line 80, in _run\n\n  File \"/usr/local/lib/python3.10/dist-packages/tornado/ioloop.py\", line 685, in <lambda>\n\n  File \"/usr/local/lib/python3.10/dist-packages/tornado/ioloop.py\", line 738, in _run_callback\n\n  File \"/usr/local/lib/python3.10/dist-packages/tornado/gen.py\", line 825, in inner\n\n  File \"/usr/local/lib/python3.10/dist-packages/tornado/gen.py\", line 786, in run\n\n  File \"/usr/local/lib/python3.10/dist-packages/ipykernel/kernelbase.py\", line 361, in process_one\n\n  File \"/usr/local/lib/python3.10/dist-packages/tornado/gen.py\", line 234, in wrapper\n\n  File \"/usr/local/lib/python3.10/dist-packages/ipykernel/kernelbase.py\", line 261, in dispatch_shell\n\n  File \"/usr/local/lib/python3.10/dist-packages/tornado/gen.py\", line 234, in wrapper\n\n  File \"/usr/local/lib/python3.10/dist-packages/ipykernel/kernelbase.py\", line 539, in execute_request\n\n  File \"/usr/local/lib/python3.10/dist-packages/tornado/gen.py\", line 234, in wrapper\n\n  File \"/usr/local/lib/python3.10/dist-packages/ipykernel/ipkernel.py\", line 302, in do_execute\n\n  File \"/usr/local/lib/python3.10/dist-packages/ipykernel/zmqshell.py\", line 539, in run_cell\n\n  File \"/usr/local/lib/python3.10/dist-packages/IPython/core/interactiveshell.py\", line 2975, in run_cell\n\n  File \"/usr/local/lib/python3.10/dist-packages/IPython/core/interactiveshell.py\", line 3030, in _run_cell\n\n  File \"/usr/local/lib/python3.10/dist-packages/IPython/core/async_helpers.py\", line 78, in _pseudo_sync_runner\n\n  File \"/usr/local/lib/python3.10/dist-packages/IPython/core/interactiveshell.py\", line 3257, in run_cell_async\n\n  File \"/usr/local/lib/python3.10/dist-packages/IPython/core/interactiveshell.py\", line 3473, in run_ast_nodes\n\n  File \"/usr/local/lib/python3.10/dist-packages/IPython/core/interactiveshell.py\", line 3553, in run_code\n\n  File \"<ipython-input-73-f31b98e3e910>\", line 3, in <cell line: 3>\n\n  File \"/usr/local/lib/python3.10/dist-packages/keras/src/utils/traceback_utils.py\", line 65, in error_handler\n\n  File \"/usr/local/lib/python3.10/dist-packages/keras/src/engine/training.py\", line 2655, in predict\n\n  File \"/usr/local/lib/python3.10/dist-packages/keras/src/engine/training.py\", line 2440, in predict_function\n\n  File \"/usr/local/lib/python3.10/dist-packages/keras/src/engine/training.py\", line 2425, in step_function\n\n  File \"/usr/local/lib/python3.10/dist-packages/keras/src/engine/training.py\", line 2413, in run_step\n\n  File \"/usr/local/lib/python3.10/dist-packages/keras/src/engine/training.py\", line 2381, in predict_step\n\n  File \"/usr/local/lib/python3.10/dist-packages/keras/src/utils/traceback_utils.py\", line 65, in error_handler\n\n  File \"/usr/local/lib/python3.10/dist-packages/keras/src/engine/training.py\", line 590, in __call__\n\n  File \"/usr/local/lib/python3.10/dist-packages/keras/src/utils/traceback_utils.py\", line 65, in error_handler\n\n  File \"/usr/local/lib/python3.10/dist-packages/keras/src/engine/base_layer.py\", line 1149, in __call__\n\n  File \"/usr/local/lib/python3.10/dist-packages/keras/src/utils/traceback_utils.py\", line 96, in error_handler\n\n  File \"/usr/local/lib/python3.10/dist-packages/keras/src/engine/functional.py\", line 515, in call\n\n  File \"/usr/local/lib/python3.10/dist-packages/keras/src/engine/functional.py\", line 672, in _run_internal_graph\n\n  File \"/usr/local/lib/python3.10/dist-packages/keras/src/utils/traceback_utils.py\", line 65, in error_handler\n\n  File \"/usr/local/lib/python3.10/dist-packages/keras/src/engine/training.py\", line 590, in __call__\n\n  File \"/usr/local/lib/python3.10/dist-packages/keras/src/utils/traceback_utils.py\", line 65, in error_handler\n\n  File \"/usr/local/lib/python3.10/dist-packages/keras/src/engine/base_layer.py\", line 1149, in __call__\n\n  File \"/usr/local/lib/python3.10/dist-packages/keras/src/utils/traceback_utils.py\", line 96, in error_handler\n\n  File \"/usr/local/lib/python3.10/dist-packages/keras/src/engine/functional.py\", line 515, in call\n\n  File \"/usr/local/lib/python3.10/dist-packages/keras/src/engine/functional.py\", line 672, in _run_internal_graph\n\n  File \"/usr/local/lib/python3.10/dist-packages/keras/src/utils/traceback_utils.py\", line 65, in error_handler\n\n  File \"/usr/local/lib/python3.10/dist-packages/keras/src/engine/base_layer.py\", line 1149, in __call__\n\n  File \"/usr/local/lib/python3.10/dist-packages/keras/src/utils/traceback_utils.py\", line 96, in error_handler\n\n  File \"/usr/local/lib/python3.10/dist-packages/keras/src/layers/core/dense.py\", line 255, in call\n\n  File \"/usr/local/lib/python3.10/dist-packages/keras/src/activations.py\", line 306, in relu\n\n  File \"/usr/local/lib/python3.10/dist-packages/keras/src/backend.py\", line 5395, in relu\n\nMatrix size-incompatible: In[0]: [32,151], In[1]: [61,64]\n\t [[{{node vae/encoder/dense_7/Relu}}]] [Op:__inference_predict_function_75197]",
          "traceback": [
            "\u001b[0;31m---------------------------------------------------------------------------\u001b[0m",
            "\u001b[0;31mInvalidArgumentError\u001b[0m                      Traceback (most recent call last)",
            "\u001b[0;32m<ipython-input-84-f31b98e3e910>\u001b[0m in \u001b[0;36m<cell line: 3>\u001b[0;34m()\u001b[0m\n\u001b[1;32m      1\u001b[0m \u001b[0;31m# Reconstruct the testing data\u001b[0m\u001b[0;34m\u001b[0m\u001b[0;34m\u001b[0m\u001b[0m\n\u001b[1;32m      2\u001b[0m \u001b[0;34m\u001b[0m\u001b[0m\n\u001b[0;32m----> 3\u001b[0;31m \u001b[0mreconstructed_data\u001b[0m \u001b[0;34m=\u001b[0m \u001b[0mvae\u001b[0m\u001b[0;34m.\u001b[0m\u001b[0mpredict\u001b[0m\u001b[0;34m(\u001b[0m\u001b[0mX_test\u001b[0m\u001b[0;34m)\u001b[0m\u001b[0;34m\u001b[0m\u001b[0;34m\u001b[0m\u001b[0m\n\u001b[0m\u001b[1;32m      4\u001b[0m \u001b[0;34m\u001b[0m\u001b[0m\n\u001b[1;32m      5\u001b[0m \u001b[0;31m# Calculate the reconstruction loss for each sample\u001b[0m\u001b[0;34m\u001b[0m\u001b[0;34m\u001b[0m\u001b[0m\n",
            "\u001b[0;32m/usr/local/lib/python3.10/dist-packages/keras/src/utils/traceback_utils.py\u001b[0m in \u001b[0;36merror_handler\u001b[0;34m(*args, **kwargs)\u001b[0m\n\u001b[1;32m     68\u001b[0m             \u001b[0;31m# To get the full stack trace, call:\u001b[0m\u001b[0;34m\u001b[0m\u001b[0;34m\u001b[0m\u001b[0m\n\u001b[1;32m     69\u001b[0m             \u001b[0;31m# `tf.debugging.disable_traceback_filtering()`\u001b[0m\u001b[0;34m\u001b[0m\u001b[0;34m\u001b[0m\u001b[0m\n\u001b[0;32m---> 70\u001b[0;31m             \u001b[0;32mraise\u001b[0m \u001b[0me\u001b[0m\u001b[0;34m.\u001b[0m\u001b[0mwith_traceback\u001b[0m\u001b[0;34m(\u001b[0m\u001b[0mfiltered_tb\u001b[0m\u001b[0;34m)\u001b[0m \u001b[0;32mfrom\u001b[0m \u001b[0;32mNone\u001b[0m\u001b[0;34m\u001b[0m\u001b[0;34m\u001b[0m\u001b[0m\n\u001b[0m\u001b[1;32m     71\u001b[0m         \u001b[0;32mfinally\u001b[0m\u001b[0;34m:\u001b[0m\u001b[0;34m\u001b[0m\u001b[0;34m\u001b[0m\u001b[0m\n\u001b[1;32m     72\u001b[0m             \u001b[0;32mdel\u001b[0m \u001b[0mfiltered_tb\u001b[0m\u001b[0;34m\u001b[0m\u001b[0;34m\u001b[0m\u001b[0m\n",
            "\u001b[0;32m/usr/local/lib/python3.10/dist-packages/tensorflow/python/eager/execute.py\u001b[0m in \u001b[0;36mquick_execute\u001b[0;34m(op_name, num_outputs, inputs, attrs, ctx, name)\u001b[0m\n\u001b[1;32m     51\u001b[0m   \u001b[0;32mtry\u001b[0m\u001b[0;34m:\u001b[0m\u001b[0;34m\u001b[0m\u001b[0;34m\u001b[0m\u001b[0m\n\u001b[1;32m     52\u001b[0m     \u001b[0mctx\u001b[0m\u001b[0;34m.\u001b[0m\u001b[0mensure_initialized\u001b[0m\u001b[0;34m(\u001b[0m\u001b[0;34m)\u001b[0m\u001b[0;34m\u001b[0m\u001b[0;34m\u001b[0m\u001b[0m\n\u001b[0;32m---> 53\u001b[0;31m     tensors = pywrap_tfe.TFE_Py_Execute(ctx._handle, device_name, op_name,\n\u001b[0m\u001b[1;32m     54\u001b[0m                                         inputs, attrs, num_outputs)\n\u001b[1;32m     55\u001b[0m   \u001b[0;32mexcept\u001b[0m \u001b[0mcore\u001b[0m\u001b[0;34m.\u001b[0m\u001b[0m_NotOkStatusException\u001b[0m \u001b[0;32mas\u001b[0m \u001b[0me\u001b[0m\u001b[0;34m:\u001b[0m\u001b[0;34m\u001b[0m\u001b[0;34m\u001b[0m\u001b[0m\n",
            "\u001b[0;31mInvalidArgumentError\u001b[0m: Graph execution error:\n\nDetected at node vae/encoder/dense_7/Relu defined at (most recent call last):\n  File \"/usr/lib/python3.10/runpy.py\", line 196, in _run_module_as_main\n\n  File \"/usr/lib/python3.10/runpy.py\", line 86, in _run_code\n\n  File \"/usr/local/lib/python3.10/dist-packages/colab_kernel_launcher.py\", line 37, in <module>\n\n  File \"/usr/local/lib/python3.10/dist-packages/traitlets/config/application.py\", line 992, in launch_instance\n\n  File \"/usr/local/lib/python3.10/dist-packages/ipykernel/kernelapp.py\", line 619, in start\n\n  File \"/usr/local/lib/python3.10/dist-packages/tornado/platform/asyncio.py\", line 195, in start\n\n  File \"/usr/lib/python3.10/asyncio/base_events.py\", line 603, in run_forever\n\n  File \"/usr/lib/python3.10/asyncio/base_events.py\", line 1909, in _run_once\n\n  File \"/usr/lib/python3.10/asyncio/events.py\", line 80, in _run\n\n  File \"/usr/local/lib/python3.10/dist-packages/tornado/ioloop.py\", line 685, in <lambda>\n\n  File \"/usr/local/lib/python3.10/dist-packages/tornado/ioloop.py\", line 738, in _run_callback\n\n  File \"/usr/local/lib/python3.10/dist-packages/tornado/gen.py\", line 825, in inner\n\n  File \"/usr/local/lib/python3.10/dist-packages/tornado/gen.py\", line 786, in run\n\n  File \"/usr/local/lib/python3.10/dist-packages/ipykernel/kernelbase.py\", line 361, in process_one\n\n  File \"/usr/local/lib/python3.10/dist-packages/tornado/gen.py\", line 234, in wrapper\n\n  File \"/usr/local/lib/python3.10/dist-packages/ipykernel/kernelbase.py\", line 261, in dispatch_shell\n\n  File \"/usr/local/lib/python3.10/dist-packages/tornado/gen.py\", line 234, in wrapper\n\n  File \"/usr/local/lib/python3.10/dist-packages/ipykernel/kernelbase.py\", line 539, in execute_request\n\n  File \"/usr/local/lib/python3.10/dist-packages/tornado/gen.py\", line 234, in wrapper\n\n  File \"/usr/local/lib/python3.10/dist-packages/ipykernel/ipkernel.py\", line 302, in do_execute\n\n  File \"/usr/local/lib/python3.10/dist-packages/ipykernel/zmqshell.py\", line 539, in run_cell\n\n  File \"/usr/local/lib/python3.10/dist-packages/IPython/core/interactiveshell.py\", line 2975, in run_cell\n\n  File \"/usr/local/lib/python3.10/dist-packages/IPython/core/interactiveshell.py\", line 3030, in _run_cell\n\n  File \"/usr/local/lib/python3.10/dist-packages/IPython/core/async_helpers.py\", line 78, in _pseudo_sync_runner\n\n  File \"/usr/local/lib/python3.10/dist-packages/IPython/core/interactiveshell.py\", line 3257, in run_cell_async\n\n  File \"/usr/local/lib/python3.10/dist-packages/IPython/core/interactiveshell.py\", line 3473, in run_ast_nodes\n\n  File \"/usr/local/lib/python3.10/dist-packages/IPython/core/interactiveshell.py\", line 3553, in run_code\n\n  File \"<ipython-input-73-f31b98e3e910>\", line 3, in <cell line: 3>\n\n  File \"/usr/local/lib/python3.10/dist-packages/keras/src/utils/traceback_utils.py\", line 65, in error_handler\n\n  File \"/usr/local/lib/python3.10/dist-packages/keras/src/engine/training.py\", line 2655, in predict\n\n  File \"/usr/local/lib/python3.10/dist-packages/keras/src/engine/training.py\", line 2440, in predict_function\n\n  File \"/usr/local/lib/python3.10/dist-packages/keras/src/engine/training.py\", line 2425, in step_function\n\n  File \"/usr/local/lib/python3.10/dist-packages/keras/src/engine/training.py\", line 2413, in run_step\n\n  File \"/usr/local/lib/python3.10/dist-packages/keras/src/engine/training.py\", line 2381, in predict_step\n\n  File \"/usr/local/lib/python3.10/dist-packages/keras/src/utils/traceback_utils.py\", line 65, in error_handler\n\n  File \"/usr/local/lib/python3.10/dist-packages/keras/src/engine/training.py\", line 590, in __call__\n\n  File \"/usr/local/lib/python3.10/dist-packages/keras/src/utils/traceback_utils.py\", line 65, in error_handler\n\n  File \"/usr/local/lib/python3.10/dist-packages/keras/src/engine/base_layer.py\", line 1149, in __call__\n\n  File \"/usr/local/lib/python3.10/dist-packages/keras/src/utils/traceback_utils.py\", line 96, in error_handler\n\n  File \"/usr/local/lib/python3.10/dist-packages/keras/src/engine/functional.py\", line 515, in call\n\n  File \"/usr/local/lib/python3.10/dist-packages/keras/src/engine/functional.py\", line 672, in _run_internal_graph\n\n  File \"/usr/local/lib/python3.10/dist-packages/keras/src/utils/traceback_utils.py\", line 65, in error_handler\n\n  File \"/usr/local/lib/python3.10/dist-packages/keras/src/engine/training.py\", line 590, in __call__\n\n  File \"/usr/local/lib/python3.10/dist-packages/keras/src/utils/traceback_utils.py\", line 65, in error_handler\n\n  File \"/usr/local/lib/python3.10/dist-packages/keras/src/engine/base_layer.py\", line 1149, in __call__\n\n  File \"/usr/local/lib/python3.10/dist-packages/keras/src/utils/traceback_utils.py\", line 96, in error_handler\n\n  File \"/usr/local/lib/python3.10/dist-packages/keras/src/engine/functional.py\", line 515, in call\n\n  File \"/usr/local/lib/python3.10/dist-packages/keras/src/engine/functional.py\", line 672, in _run_internal_graph\n\n  File \"/usr/local/lib/python3.10/dist-packages/keras/src/utils/traceback_utils.py\", line 65, in error_handler\n\n  File \"/usr/local/lib/python3.10/dist-packages/keras/src/engine/base_layer.py\", line 1149, in __call__\n\n  File \"/usr/local/lib/python3.10/dist-packages/keras/src/utils/traceback_utils.py\", line 96, in error_handler\n\n  File \"/usr/local/lib/python3.10/dist-packages/keras/src/layers/core/dense.py\", line 255, in call\n\n  File \"/usr/local/lib/python3.10/dist-packages/keras/src/activations.py\", line 306, in relu\n\n  File \"/usr/local/lib/python3.10/dist-packages/keras/src/backend.py\", line 5395, in relu\n\nMatrix size-incompatible: In[0]: [32,151], In[1]: [61,64]\n\t [[{{node vae/encoder/dense_7/Relu}}]] [Op:__inference_predict_function_75197]"
          ]
        }
      ],
      "source": [
        "# Reconstruct the testing data\n",
        "\n",
        "reconstructed_data = vae.predict(X_test)\n",
        "\n",
        "# Calculate the reconstruction loss for each sample\n",
        "reconstruction_loss = np.mean(np.square(X_test - reconstructed_data), axis=1)\n",
        "\n",
        "# Set a threshold to identify outliers\n",
        "threshold = np.percentile(reconstruction_loss,50)  # Adjust the percentile as needed\n",
        "\n",
        "# Identify the outliers\n",
        "outlier_indices = np.where(reconstruction_loss < threshold)[0]\n",
        "outlier_data = X_test[outlier_indices]\n",
        "\n",
        "#outlier_featuresname1 =np.array(outlier_data)[outlier_indices[1]]\n",
        "#outlier_features1 =selected_featuresindex[outlier_indices[1]]\n",
        "print(outlier_indices)\n",
        "\"\"\"\n",
        "\n",
        "def convert_data(data_list2,outlier_indices):\n",
        "    result = []\n",
        "    indexx=0\n",
        "    for index, value in enumerate(data_list2):\n",
        "        if (outlier_indices[indexx]== index):\n",
        "            result.append(1)\n",
        "            data_list2[index]=1  # If index is even, add 0\n",
        "            indexx=indexx+1\n",
        "        else:\n",
        "            result.append(0)  # If index is odd, keep the original value\n",
        "            data_list2[index]=0\n",
        "    return data_list2\n",
        "\n",
        "# Example usage:\n",
        "\n",
        "converted_data2 = convert_data(X_test,outlier_indicest)\n",
        "#print(f\"Original data: {X_train}\")\n",
        "print(f\"Converted data: {converted_data2}\")\n",
        "print(converted_data2.shape)\"\"\"\n",
        "print(outlier_data.shape)\n",
        "print(X_test)"
      ]
    },
    {
      "cell_type": "markdown",
      "metadata": {
        "id": "o-PwRb5_vJYd"
      },
      "source": [
        "#genetic"
      ]
    },
    {
      "cell_type": "code",
      "execution_count": null,
      "metadata": {
        "colab": {
          "base_uri": "https://localhost:8080/"
        },
        "id": "IYP2UHE-e8TS",
        "outputId": "6ee67ca7-27e4-4516-ca57-ec60982ae7d4"
      },
      "outputs": [
        {
          "output_type": "stream",
          "name": "stdout",
          "text": [
            "Collecting sklearn-genetic\n",
            "  Downloading sklearn_genetic-0.6.0-py3-none-any.whl (11 kB)\n",
            "Requirement already satisfied: scikit-learn>=1.0 in /usr/local/lib/python3.10/dist-packages (from sklearn-genetic) (1.2.2)\n",
            "Collecting deap>=1.0.2 (from sklearn-genetic)\n",
            "  Downloading deap-1.4.1-cp310-cp310-manylinux_2_5_x86_64.manylinux1_x86_64.manylinux_2_17_x86_64.manylinux2014_x86_64.whl (135 kB)\n",
            "\u001b[2K     \u001b[90m━━━━━━━━━━━━━━━━━━━━━━━━━━━━━━━━━━━━━━━━\u001b[0m \u001b[32m135.4/135.4 kB\u001b[0m \u001b[31m3.5 MB/s\u001b[0m eta \u001b[36m0:00:00\u001b[0m\n",
            "\u001b[?25hRequirement already satisfied: numpy in /usr/local/lib/python3.10/dist-packages (from sklearn-genetic) (1.25.2)\n",
            "Collecting multiprocess (from sklearn-genetic)\n",
            "  Downloading multiprocess-0.70.16-py310-none-any.whl (134 kB)\n",
            "\u001b[2K     \u001b[90m━━━━━━━━━━━━━━━━━━━━━━━━━━━━━━━━━━━━━━━━\u001b[0m \u001b[32m134.8/134.8 kB\u001b[0m \u001b[31m5.9 MB/s\u001b[0m eta \u001b[36m0:00:00\u001b[0m\n",
            "\u001b[?25hRequirement already satisfied: scipy>=1.3.2 in /usr/local/lib/python3.10/dist-packages (from scikit-learn>=1.0->sklearn-genetic) (1.11.4)\n",
            "Requirement already satisfied: joblib>=1.1.1 in /usr/local/lib/python3.10/dist-packages (from scikit-learn>=1.0->sklearn-genetic) (1.3.2)\n",
            "Requirement already satisfied: threadpoolctl>=2.0.0 in /usr/local/lib/python3.10/dist-packages (from scikit-learn>=1.0->sklearn-genetic) (3.3.0)\n",
            "Collecting dill>=0.3.8 (from multiprocess->sklearn-genetic)\n",
            "  Downloading dill-0.3.8-py3-none-any.whl (116 kB)\n",
            "\u001b[2K     \u001b[90m━━━━━━━━━━━━━━━━━━━━━━━━━━━━━━━━━━━━━━━━\u001b[0m \u001b[32m116.3/116.3 kB\u001b[0m \u001b[31m5.7 MB/s\u001b[0m eta \u001b[36m0:00:00\u001b[0m\n",
            "\u001b[?25hInstalling collected packages: dill, deap, multiprocess, sklearn-genetic\n",
            "Successfully installed deap-1.4.1 dill-0.3.8 multiprocess-0.70.16 sklearn-genetic-0.6.0\n"
          ]
        }
      ],
      "source": [
        "pip install sklearn-genetic"
      ]
    },
    {
      "cell_type": "code",
      "execution_count": null,
      "metadata": {
        "id": "OcIvQHcEG9FD"
      },
      "outputs": [],
      "source": [
        "import numpy as np\n",
        "import pandas as pd\n",
        "\n",
        "from sklearn.model_selection import train_test_split\n",
        "from sklearn.linear_model import LogisticRegression\n",
        "from genetic_selection import GeneticSelectionCV\n",
        "from sklearn import datasets, linear_model\n",
        "from sklearn import svm\n",
        "\n",
        "from sklearn import metrics\n",
        "from sklearn.metrics import accuracy_score\n",
        "from sklearn.model_selection import KFold, cross_val_score\n"
      ]
    },
    {
      "cell_type": "code",
      "execution_count": null,
      "metadata": {
        "colab": {
          "base_uri": "https://localhost:8080/"
        },
        "id": "vjFn42YYJG8X",
        "outputId": "6521b334-398b-46cb-c441-f8fe0a25a682"
      },
      "outputs": [
        {
          "output_type": "stream",
          "name": "stdout",
          "text": [
            "(61, 3535)\n"
          ]
        }
      ],
      "source": [
        "outlier_datat_t = outlier_datat.T\n",
        "#outlier_data_t = outlier_data.T\n",
        "\n",
        "print (outlier_datat_t .shape)\n",
        "#print (outlier_data_t .shape)\n"
      ]
    },
    {
      "cell_type": "code",
      "execution_count": null,
      "metadata": {
        "colab": {
          "base_uri": "https://localhost:8080/"
        },
        "id": "QQDNAHwcwYn-",
        "outputId": "17ac7fb3-b728-4484-c136-d38101dc65cd"
      },
      "outputs": [
        {
          "output_type": "stream",
          "name": "stdout",
          "text": [
            "(61, 7070)\n",
            "(151, 7070)\n"
          ]
        }
      ],
      "source": [
        "\n",
        "X_train=X_train.T\n",
        "X_test=X_test.T\n",
        "print (X_train .shape)\n",
        "print (X_test .shape)"
      ]
    },
    {
      "cell_type": "code",
      "execution_count": null,
      "metadata": {
        "id": "ckV7KV6ffmDL"
      },
      "outputs": [],
      "source": [
        "estimator = linear_model.LogisticRegression(solver=\"liblinear\",random_state=0)\n",
        "#estimator =svm.SVC(kernel='linear')\n",
        "\n",
        "\n",
        "selector = GeneticSelectionCV(\n",
        "        estimator,\n",
        "        cv=5,\n",
        "        verbose=1,\n",
        "        scoring=\"accuracy\",\n",
        "        max_features=300,\n",
        "        n_population=30,\n",
        "        crossover_proba=0.5,\n",
        "        mutation_proba=0.2,\n",
        "        n_generations=50,\n",
        "        crossover_independent_proba=0.5,\n",
        "        mutation_independent_proba=0.1,\n",
        "\n",
        "        n_gen_no_change=None,\n",
        "        caching=False,\n",
        "        n_jobs=1\n",
        "    )\n",
        "\n",
        "\n"
      ]
    },
    {
      "cell_type": "markdown",
      "metadata": {
        "id": "iF1aeOCYgiMd"
      },
      "source": [
        "# New Section mean all runs"
      ]
    },
    {
      "cell_type": "markdown",
      "metadata": {
        "id": "y8ZZ2BGNnh97"
      },
      "source": [
        "#genetic 10 run"
      ]
    },
    {
      "cell_type": "code",
      "execution_count": null,
      "metadata": {
        "colab": {
          "base_uri": "https://localhost:8080/"
        },
        "id": "D-XziOAxggMC",
        "outputId": "d5e6e6d6-c28a-444e-bfa5-e9d4b4771012"
      },
      "outputs": [
        {
          "output_type": "stream",
          "name": "stdout",
          "text": [
            "Selecting features with genetic algorithm.\n",
            "gen\tnevals\tavg                                  \tstd                               \tmin                            \tmax                                  \n",
            "0  \t30    \t[   0.852265  148.033333    0.071278]\t[  0.062859  88.873499   0.023716]\t[ 0.623077  1.        0.028205]\t[   0.951282  288.          0.110286]\n",
            "1  \t16    \t[-1332.558761   288.        1333.392086]\t[ 3399.650155   241.99697   3399.323298]\t[-10000.           10.            0.002564]\t[     0.951282    948.        10000.      ]\n",
            "2  \t16    \t[-1999.272564   349.966667  2000.049304]\t[ 4000.363718   278.07343   3999.975348]\t[-10000.          118.            0.002564]\t[     0.966667    947.        10000.      ]\n",
            "3  \t19    \t[-2999.352265   389.766667  3000.03526 ]\t[ 4582.999737   316.035724  4582.552612]\t[-10000.          118.            0.002564]\t[     0.983333    937.        10000.      ]\n",
            "4  \t21    \t[-2999.341453   352.766667  3000.036094]\t[ 4583.006815   286.007888  4582.552066]\t[-10000.          122.            0.002564]\t[     0.983333    867.        10000.      ]\n",
            "5  \t18    \t[-2665.971667   345.1       2666.698801]\t[ 4422.585488   284.998053  4422.147009]\t[-10000.          150.            0.032786]\t[     0.983333    905.        10000.      ]\n",
            "6  \t13    \t[-1999.225427   303.        2000.031527]\t[ 4000.387286   262.981115  3999.984237]\t[-10000.          159.            0.032786]\t[     0.983333    860.        10000.      ]\n",
            "7  \t21    \t[-1999.217222   275.1       2000.028277]\t[ 4000.391389   227.387826  3999.985861]\t[-10000.          156.            0.033333]\t[     0.983333    833.        10000.      ]\n",
            "8  \t21    \t[-2665.950983   343.066667  2666.692373]\t[ 4422.597961   295.083483  4422.150886]\t[-10000.    154.      0.]                  \t[     1.    867.  10000.]                  \n",
            "9  \t17    \t[-1665.852564   277.966667  1666.693515]\t[ 3727.14404    254.26423   3726.767956]\t[-10000.    154.      0.]                  \t[     1.    882.  10000.]                  \n",
            "10 \t16    \t[-2665.941624   347.033333  2666.682421]\t[ 4422.603604   304.309325  4422.156887]\t[-10000.    159.      0.]                  \t[     1.    894.  10000.]                  \n",
            "11 \t15    \t[-1665.840513   277.033333  1666.677615]\t[ 3727.14943    256.807124  3726.775066]\t[-10000.    156.      0.]                  \t[     1.    891.  10000.]                  \n",
            "12 \t17    \t[-1665.838803   273.7       1666.675919]\t[ 3727.150194   252.06443   3726.775825]\t[-10000.    153.      0.]                  \t[     1.    901.  10000.]                  \n",
            "13 \t14    \t[-1999.203803   294.8       2000.007607]\t[ 4000.398098   268.568104  3999.996197]\t[-10000.    154.      0.]                  \t[     1.    867.  10000.]                  \n",
            "14 \t20    \t[-999.104359  228.966667 1000.008718]   \t[ 3000.298547   209.789813  2999.997094]\t[-10000.    149.      0.]                  \t[     1.    883.  10000.]                  \n",
            "15 \t13    \t[-1332.471068   247.666667  1333.340414]\t[ 3399.684551   230.927021  3399.343565]\t[-10000.    149.      0.]                  \t[     1.    850.  10000.]                  \n",
            "16 \t22    \t[-2665.935   336.     2666.67 ]         \t[ 4422.607599   302.523277  4422.164377]\t[-10000.    149.      0.]                  \t[     1.    875.  10000.]                  \n",
            "17 \t18    \t[-1999.202094   283.433333  2000.004188]\t[ 4000.398953   270.888622  3999.997906]\t[-10000.    144.      0.]                  \t[     1.   1076.  10000.]                  \n",
            "18 \t15    \t[-3332.666667   381.3       3333.333333]\t[ 4714.516612   324.21661   4714.045208]\t[-10000.    149.      0.]                  \t[     1.    884.  10000.]                  \n",
            "19 \t22    \t[-2999.300513   349.433333  3000.001026]\t[ 4583.033617   316.231527  4582.575024]\t[-10000.    149.      0.]                  \t[     1.   1121.  10000.]                  \n",
            "20 \t19    \t[-2332.566667   294.333333  2333.333333]\t[ 4229.948799   279.24378   4229.525847]\t[-10000.    146.      0.]                  \t[     1.    942.  10000.]                  \n",
            "21 \t19    \t[-2665.933889   328.966667  2666.667778]\t[ 4422.608269   299.779862  4422.165717]\t[-10000.    146.      0.]                  \t[     1.    879.  10000.]                  \n",
            "22 \t22    \t[-3332.666667   378.2       3333.333333]\t[ 4714.516612   326.51834   4714.045208]\t[-10000.    146.      0.]                  \t[     1.    917.  10000.]                  \n",
            "23 \t14    \t[-3332.666667   380.433333  3333.333333]\t[ 4714.516612   329.929759  4714.045208]\t[-10000.    146.      0.]                  \t[     1.    879.  10000.]                  \n",
            "24 \t20    \t[-2665.933333   320.4       2666.666667]\t[ 4422.608604   318.358247  4422.166387]\t[-10000.    146.      0.]                  \t[     1.   1386.  10000.]                  \n",
            "25 \t12    \t[-999.1       213.033333 1000.      ]   \t[ 3000.3        200.493472  3000.      ]\t[-10000.    145.      0.]                  \t[     1.    835.  10000.]                  \n",
            "26 \t13    \t[-1999.2        283.833333  2000.      ]\t[ 4000.4        276.456034  4000.      ]\t[-10000.    145.      0.]                  \t[     1.    866.  10000.]                  \n",
            "27 \t18    \t[-1332.466667   237.633333  1333.333333]\t[ 3399.686277   235.144847  3399.346342]\t[-10000.    144.      0.]                  \t[     1.    860.  10000.]                  \n",
            "28 \t18    \t[-2332.566667   300.8       2333.333333]\t[ 4229.948799   283.063526  4229.525847]\t[-10000.    144.      0.]                  \t[     1.    847.  10000.]                  \n",
            "29 \t16    \t[-332.366667  166.466667  333.333333]   \t[ 1795.234441   120.0588    1795.054936]\t[-10000.    144.      0.]                  \t[     1.    813.  10000.]                  \n",
            "30 \t19    \t[-1999.2        279.133333  2000.      ]\t[ 4000.4        270.371933  4000.      ]\t[-10000.    144.      0.]                  \t[     1.    842.  10000.]                  \n",
            "31 \t13    \t[-665.733333  191.        666.666667]   \t[ 2494.687702   175.889928  2494.438258]\t[-10000.    144.      0.]                  \t[     1.    862.  10000.]                  \n",
            "32 \t15    \t[-1332.466667   233.133333  1333.333333]\t[ 3399.686277   227.357829  3399.346342]\t[-10000.    144.      0.]                  \t[     1.    839.  10000.]                  \n",
            "33 \t12    \t[-999.1       208.933333 1000.      ]   \t[ 3000.3        194.850016  3000.      ]\t[-10000.    144.      0.]                  \t[     1.    813.  10000.]                  \n",
            "34 \t23    \t[-1665.833333   257.366667  1666.666667]\t[ 3727.15264    253.6146    3726.779962]\t[-10000.    144.      0.]                  \t[     1.    856.  10000.]                  \n",
            "35 \t17    \t[-2665.933333   327.266667  2666.666667]\t[ 4422.608604   304.032337  4422.166387]\t[-10000.    144.      0.]                  \t[     1.    860.  10000.]                  \n",
            "36 \t17    \t[-2999.3        347.166667  3000.      ]\t[ 4583.033953   310.752858  4582.575695]\t[-10000.    144.      0.]                  \t[     1.    863.  10000.]                  \n",
            "37 \t21    \t[-1665.833333   255.933333  1666.666667]\t[ 3727.15264    250.356004  3726.779962]\t[-10000.    144.      0.]                  \t[     1.    829.  10000.]                  \n",
            "38 \t17    \t[-1999.2   280.1  2000. ]               \t[ 4000.4        272.254336  4000.      ]\t[-10000.    144.      0.]                  \t[     1.    843.  10000.]                  \n",
            "39 \t16    \t[-1665.833333   258.433333  1666.666667]\t[ 3727.15264    255.965321  3726.779962]\t[-10000.    144.      0.]                  \t[     1.    847.  10000.]                  \n",
            "40 \t16    \t[-2332.566667   302.433333  2333.333333]\t[ 4229.948799   287.458598  4229.525847]\t[-10000.    144.      0.]                  \t[     1.    862.  10000.]                  \n",
            "41 \t15    \t[-1999.2   279.6  2000. ]               \t[ 4000.4        271.348435  4000.      ]\t[-10000.    144.      0.]                  \t[     1.    843.  10000.]                  \n",
            "42 \t19    \t[-1665.833333   255.5       1666.666667]\t[ 3727.15264    249.42985   3726.779962]\t[-10000.    144.      0.]                  \t[     1.    842.  10000.]                  \n",
            "43 \t14    \t[-1999.2        276.733333  2000.      ]\t[ 4000.4        265.671468  4000.      ]\t[-10000.    144.      0.]                  \t[     1.    839.  10000.]                  \n",
            "44 \t18    \t[-1332.466667   235.933333  1333.333333]\t[ 3399.686277   234.444867  3399.346342]\t[-10000.    144.      0.]                  \t[     1.    849.  10000.]                  \n",
            "45 \t20    \t[-2665.933333   321.2       2666.666667]\t[ 4422.608604   294.067725  4422.166387]\t[-10000.    144.      0.]                  \t[     1.    835.  10000.]                  \n",
            "46 \t18    \t[-999.1       210.866667 1000.      ]   \t[ 3000.3       200.68578  3000.     ]   \t[-10000.    144.      0.]                  \t[     1.    837.  10000.]                  \n",
            "47 \t17    \t[-665.733333  187.366667  666.666667]   \t[ 2494.687702   162.319127  2494.438258]\t[-10000.    144.      0.]                  \t[     1.    811.  10000.]                  \n",
            "48 \t14    \t[-1665.833333   256.133333  1666.666667]\t[ 3727.15264    250.794436  3726.779962]\t[-10000.    144.      0.]                  \t[     1.    835.  10000.]                  \n",
            "49 \t13    \t[-1332.466667   235.5       1333.333333]\t[ 3399.686277   233.402049  3399.346342]\t[-10000.    144.      0.]                  \t[     1.    861.  10000.]                  \n",
            "50 \t19    \t[-1999.2   282.8  2000. ]               \t[ 4000.4        277.702047  4000.      ]\t[-10000.    144.      0.]                  \t[     1.    857.  10000.]                  \n",
            "runnnnnnnnnnnnnn 0\n",
            "[False False False ... False False  True]\n",
            "[array([   8,  144,  169,  206,  223,  298,  305,  307,  325,  380,  448,\n",
            "        488,  501,  514,  524,  777,  811,  812,  813,  822,  964,  980,\n",
            "       1012, 1050, 1098, 1229, 1290, 1304, 1362, 1370, 1379, 1405, 1459,\n",
            "       1595, 1634, 1679, 1703, 1719, 1722, 1738, 1746, 1789, 1870, 1876,\n",
            "       1967, 2023, 2044, 2172, 2192, 2224, 2248, 2282, 2378, 2587, 2595,\n",
            "       2654, 2695, 2840, 2868, 2882, 2906, 3073, 3098, 3119, 3202, 3276,\n",
            "       3298, 3302, 3311, 3374, 3410, 3427, 3443, 3456, 3460, 3530, 3578,\n",
            "       3638, 3665, 3688, 3693, 3706, 3744, 3763, 3773, 3788, 3910, 3957,\n",
            "       3961, 4032, 4096, 4127, 4175, 4192, 4213, 4384, 4393, 4494, 4676,\n",
            "       4720, 4733, 4785, 4794, 4899, 4927, 5086, 5148, 5185, 5217, 5234,\n",
            "       5238, 5302, 5344, 5369, 5431, 5436, 5513, 5635, 5650, 5709, 5750,\n",
            "       5843, 5882, 5895, 5934, 5937, 5989, 6085, 6094, 6200, 6290, 6361,\n",
            "       6389, 6408, 6417, 6429, 6559, 6574, 6616, 6819, 6849, 6977, 7028,\n",
            "       7069])]\n",
            "Selecting features with genetic algorithm.\n",
            "gen\tnevals\tavg                                  \tstd                               \tmin                            \tmax                                  \n",
            "0  \t30    \t[   0.849145  132.9         0.078591]\t[  0.073285  93.514473   0.037971]\t[ 0.542308  2.        0.032281]\t[   0.95      293.          0.170739]\n",
            "1  \t16    \t[-1332.558675   252.266667  1333.397582]\t[ 3399.650188   256.111946  3399.321142]\t[-10000.            6.            0.034065]\t[     0.95    978.    10000.  ]      \n",
            "2  \t16    \t[-1999.270256   294.666667  2000.052514]\t[ 4000.364872   273.075976  3999.973743]\t[-10000.           80.            0.002564]\t[     0.95    868.    10000.  ]      \n",
            "3  \t19    \t[-2999.343077   345.3       3000.046298]\t[ 4583.005752   304.601067  4582.545386]\t[-10000.          110.            0.032786]\t[     0.967949    841.        10000.      ]\n",
            "4  \t21    \t[-2999.337949   324.5       3000.040779]\t[ 4583.009109   289.546053  4582.548999]\t[-10000.          115.            0.032786]\t[     0.967949    856.        10000.      ]\n",
            "5  \t18    \t[-2665.962991   317.366667  2666.703457]\t[ 4422.590719   296.096548  4422.144202]\t[-10000.          115.            0.033333]\t[     0.983333    890.        10000.      ]\n",
            "6  \t13    \t[-1999.228376   286.3       2000.034832]\t[ 4000.385812   262.095549  3999.982584]\t[-10000.          125.            0.033333]\t[     0.983333    853.        10000.      ]\n",
            "7  \t21    \t[-1999.224444   265.933333  2000.031337]\t[ 4000.387778   225.908379  3999.984332]\t[-10000.          134.            0.033333]\t[     0.983333    828.        10000.      ]\n",
            "8  \t21    \t[-2665.953632   332.366667  2666.692916]\t[ 4422.596363   294.477219  4422.150558]\t[-10000.          148.            0.033333]\t[     0.983333    867.        10000.      ]\n",
            "9  \t17    \t[-1665.849829   269.4       1666.695491]\t[ 3727.145263   252.335834  3726.767072]\t[-10000.          148.            0.033333]\t[     0.983333    860.        10000.      ]\n",
            "10 \t16    \t[-2665.947735   336.3       2666.692059]\t[ 4422.599919   304.756203  4422.151075]\t[-10000.          148.            0.033333]\t[     0.983333    874.        10000.      ]\n",
            "11 \t15    \t[-1665.851538   267.4       1666.695827]\t[ 3727.144499   260.548601  3726.766922]\t[-10000.          144.            0.033333]\t[     0.983333    881.        10000.      ]\n",
            "12 \t17    \t[-1665.851068   261.566667  1666.696772]\t[ 3727.144709   248.022537  3726.766499]\t[-10000.          144.            0.033333]\t[     0.983333    861.        10000.      ]\n",
            "13 \t14    \t[-1999.214402   283.466667  2000.027116]\t[ 4000.392799   267.482053  3999.986442]\t[-10000.          144.            0.033333]\t[     0.983333    860.        10000.      ]\n",
            "14 \t20    \t[-999.116026  217.       1000.030398]   \t[ 3000.294658   210.740915  2999.989867]\t[-10000.          142.            0.033333]\t[     0.983333    887.        10000.      ]\n",
            "15 \t13    \t[-1332.48265    235.366667  1333.36282 ]\t[ 3399.680008   228.783374  3399.334777]\t[-10000.          142.            0.033333]\t[     0.983333    843.        10000.      ]\n",
            "16 \t22    \t[-2665.945556   328.166667  2666.691111]\t[ 4422.601234   304.270722  4422.151647]\t[-10000.          142.            0.033333]\t[     0.983333    856.        10000.      ]\n",
            "17 \t18    \t[-1999.213333   275.2       2000.026667]\t[ 4000.393333   273.539321  3999.986667]\t[-10000.          141.            0.033333]\t[     0.983333   1076.        10000.      ]\n",
            "18 \t15    \t[-3332.677778   370.666667  3333.355556]\t[ 4714.508756   322.819695  4714.029494]\t[-10000.          141.            0.033333]\t[     0.983333    883.        10000.      ]\n",
            "19 \t22    \t[-2999.311667   341.3       3000.023333]\t[ 4583.026315   315.748122  4582.56042 ]\t[-10000.          141.            0.033333]\t[     0.983333   1093.        10000.      ]\n",
            "20 \t19    \t[-1999.216068   287.433333  2000.027647]\t[ 4000.391966   280.376138  3999.986176]\t[-10000.          139.            0.033333]\t[     0.983333    930.        10000.      ]\n",
            "21 \t19    \t[-2665.945556   321.7       2666.691111]\t[ 4422.601234   300.261347  4422.151647]\t[-10000.          139.            0.033333]\t[     0.983333    877.        10000.      ]\n",
            "22 \t22    \t[-3332.677778   371.2       3333.355556]\t[ 4714.508756   327.446423  4714.029494]\t[-10000.          139.            0.033333]\t[     0.983333    915.        10000.      ]\n",
            "23 \t14    \t[-3332.677778   373.766667  3333.355556]\t[ 4714.508756   331.446092  4714.029494]\t[-10000.          139.            0.033333]\t[     0.983333    877.        10000.      ]\n",
            "24 \t20    \t[-2665.945556   312.533333  2666.691111]\t[ 4422.601234   318.499684  4422.151647]\t[-10000.          139.            0.033333]\t[     0.983333   1378.        10000.      ]\n",
            "25 \t12    \t[-999.115  206.5   1000.03 ]            \t[ 3000.295      202.460325  2999.99    ]\t[-10000.          139.            0.033333]\t[     0.983333    837.        10000.      ]\n",
            "26 \t13    \t[-1999.213333   277.7       2000.026667]\t[ 4000.393333   277.643915  3999.986667]\t[-10000.          139.            0.033333]\t[     0.983333    865.        10000.      ]\n",
            "27 \t18    \t[-1332.481111   230.4       1333.362222]\t[ 3399.680611   233.133953  3399.335011]\t[-10000.          139.            0.033333]\t[     0.983333    844.        10000.      ]\n",
            "28 \t18    \t[-2332.579444   296.        2333.358889]\t[ 4229.94175    284.716935  4229.511748]\t[-10000.          139.            0.033333]\t[     0.983333    847.        10000.      ]\n",
            "29 \t16    \t[-332.382778  161.566667  333.365556]   \t[ 1795.231449   121.525219  1795.048952]\t[-10000.          139.            0.033333]\t[     0.983333    816.        10000.      ]\n",
            "30 \t19    \t[-1999.213333   275.        2000.026667]\t[ 4000.393333   272.144079  3999.986667]\t[-10000.          139.            0.033333]\t[     0.983333    843.        10000.      ]\n",
            "31 \t13    \t[-665.748889  186.2       666.697778]   \t[ 2494.683544   176.65454   2494.429943]\t[-10000.          139.            0.033333]\t[     0.983333    863.        10000.      ]\n",
            "32 \t15    \t[-1332.481111   228.866667  1333.362222]\t[ 3399.680611   229.156531  3399.335011]\t[-10000.          139.            0.033333]\t[     0.983333    828.        10000.      ]\n",
            "33 \t12    \t[-999.115     204.333333 1000.03    ]   \t[ 3000.295      196.083712  2999.99    ]\t[-10000.          139.            0.033333]\t[     0.983333    816.        10000.      ]\n",
            "34 \t23    \t[-1665.847222   253.566667  1666.694444]\t[ 3727.146429   256.233576  3726.76754 ]\t[-10000.          139.            0.033333]\t[     0.983333    843.        10000.      ]\n",
            "35 \t17    \t[-2665.945556   321.2       2666.691111]\t[ 4422.601234   302.282032  4422.151647]\t[-10000.          139.            0.033333]\t[     0.983333    852.        10000.      ]\n",
            "36 \t17    \t[-2999.311667   342.7       3000.023333]\t[ 4583.026315   311.514703  4582.56042 ]\t[-10000.          139.            0.033333]\t[     0.983333    860.        10000.      ]\n",
            "37 \t21    \t[-1665.847222   251.333333  1666.694444]\t[ 3727.146429   251.259538  3726.76754 ]\t[-10000.          139.            0.033333]\t[     0.983333    830.        10000.      ]\n",
            "38 \t17    \t[-1999.213333   275.633333  2000.026667]\t[ 4000.393333   273.336482  3999.986667]\t[-10000.          139.            0.033333]\t[     0.983333    838.        10000.      ]\n",
            "39 \t16    \t[-1665.847222   253.966667  1666.694444]\t[ 3727.146429   257.143084  3726.76754 ]\t[-10000.          139.            0.033333]\t[     0.983333    852.        10000.      ]\n",
            "40 \t16    \t[-2332.579444   297.366667  2333.358889]\t[ 4229.94175    287.311618  4229.511748]\t[-10000.          139.            0.033333]\t[     0.983333    855.        10000.      ]\n",
            "41 \t15    \t[-1999.213333   276.2       2000.026667]\t[ 4000.393333   274.565888  3999.986667]\t[-10000.          139.            0.033333]\t[     0.983333    860.        10000.      ]\n",
            "42 \t19    \t[-1665.847222   250.1       1666.694444]\t[ 3727.146429   248.563654  3726.76754 ]\t[-10000.          139.            0.033333]\t[     0.983333    841.        10000.      ]\n",
            "43 \t14    \t[-1999.213333   271.933333  2000.026667]\t[ 4000.393333   266.152204  3999.986667]\t[-10000.          139.            0.033333]\t[     0.983333    846.        10000.      ]\n",
            "44 \t18    \t[-1332.481111   230.466667  1333.362222]\t[ 3399.680611   233.246898  3399.335011]\t[-10000.          139.            0.033333]\t[     0.983333    844.        10000.      ]\n",
            "45 \t20    \t[-2665.945556   317.133333  2666.691111]\t[ 4422.601234   295.571168  4422.151647]\t[-10000.          139.            0.033333]\t[     0.983333    832.        10000.      ]\n",
            "46 \t18    \t[-999.115     205.866667 1000.03    ]   \t[ 3000.295      200.686776  2999.99    ]\t[-10000.          139.            0.033333]\t[     0.983333    834.        10000.      ]\n",
            "47 \t17    \t[-665.748889  182.366667  666.697778]   \t[ 2494.683544   162.429981  2494.429943]\t[-10000.          139.            0.033333]\t[     0.983333    818.        10000.      ]\n",
            "48 \t14    \t[-1665.847222   251.733333  1666.694444]\t[ 3727.146429   252.120333  3726.76754 ]\t[-10000.          139.            0.033333]\t[     0.983333    828.        10000.      ]\n",
            "49 \t13    \t[-1332.481111   230.766667  1333.362222]\t[ 3399.680611   234.088685  3399.335011]\t[-10000.          139.            0.033333]\t[     0.983333    858.        10000.      ]\n",
            "50 \t19    \t[-1999.213333   277.066667  2000.026667]\t[ 4000.393333   276.186644  3999.986667]\t[-10000.          139.            0.033333]\t[     0.983333    846.        10000.      ]\n",
            "runnnnnnnnnnnnnn 1\n",
            "[False False False ... False  True False]\n",
            "[array([   8,  144,  169,  206,  223,  298,  305,  307,  325,  380,  448,\n",
            "        488,  501,  514,  524,  777,  811,  812,  813,  822,  964,  980,\n",
            "       1012, 1050, 1098, 1229, 1290, 1304, 1362, 1370, 1379, 1405, 1459,\n",
            "       1595, 1634, 1679, 1703, 1719, 1722, 1738, 1746, 1789, 1870, 1876,\n",
            "       1967, 2023, 2044, 2172, 2192, 2224, 2248, 2282, 2378, 2587, 2595,\n",
            "       2654, 2695, 2840, 2868, 2882, 2906, 3073, 3098, 3119, 3202, 3276,\n",
            "       3298, 3302, 3311, 3374, 3410, 3427, 3443, 3456, 3460, 3530, 3578,\n",
            "       3638, 3665, 3688, 3693, 3706, 3744, 3763, 3773, 3788, 3910, 3957,\n",
            "       3961, 4032, 4096, 4127, 4175, 4192, 4213, 4384, 4393, 4494, 4676,\n",
            "       4720, 4733, 4785, 4794, 4899, 4927, 5086, 5148, 5185, 5217, 5234,\n",
            "       5238, 5302, 5344, 5369, 5431, 5436, 5513, 5635, 5650, 5709, 5750,\n",
            "       5843, 5882, 5895, 5934, 5937, 5989, 6085, 6094, 6200, 6290, 6361,\n",
            "       6389, 6408, 6417, 6429, 6559, 6574, 6616, 6819, 6849, 6977, 7028,\n",
            "       7069]), array([  15,   38,   87,  155,  233,  246,  260,  263,  281,  300,  305,\n",
            "        376,  378,  391,  397,  406,  451,  471,  549,  602,  621,  625,\n",
            "        824,  834,  910,  961, 1016, 1126, 1323, 1382, 1383, 1427, 1432,\n",
            "       1471, 1480, 1535, 1561, 1672, 1703, 1714, 1742, 1835, 1860, 1924,\n",
            "       1933, 2036, 2093, 2168, 2223, 2243, 2302, 2336, 2465, 2505, 2518,\n",
            "       2616, 2741, 2858, 2906, 2954, 2971, 3098, 3105, 3135, 3150, 3156,\n",
            "       3242, 3265, 3364, 3366, 3432, 3510, 3551, 3556, 3744, 3858, 3908,\n",
            "       3967, 4016, 4025, 4122, 4153, 4162, 4174, 4192, 4210, 4244, 4246,\n",
            "       4348, 4354, 4371, 4423, 4437, 4457, 4478, 4518, 4625, 4810, 4824,\n",
            "       4901, 4913, 4932, 4955, 5017, 5040, 5049, 5090, 5095, 5213, 5221,\n",
            "       5238, 5246, 5291, 5320, 5412, 5472, 5511, 5549, 5588, 5606, 5620,\n",
            "       5651, 5658, 5659, 5729, 5803, 5817, 5917, 6123, 6451, 6467, 6592,\n",
            "       6782, 6847, 6862, 7009, 7035, 7043, 7068])]\n",
            "Selecting features with genetic algorithm.\n",
            "gen\tnevals\tavg                                  \tstd                               \tmin                            \tmax                                  \n",
            "0  \t30    \t[   0.875     144.966667    0.0639  ]\t[  0.057624  80.316243   0.026622]\t[ 0.719231  9.        0.028205]\t[   0.952564  267.          0.141781]\n",
            "1  \t16    \t[-1332.552778   263.166667  1333.384239]\t[ 3399.652502   240.945372  3399.326376]\t[-10000.           13.            0.028205]\t[     0.952564    916.        10000.      ]\n",
            "2  \t16    \t[-1999.265385   286.866667  2000.049952]\t[ 4000.367308   276.760273  3999.975024]\t[-10000.           88.            0.034065]\t[     0.952564    941.        10000.      ]\n",
            "3  \t19    \t[-2999.358419   359.566667  3000.046567]\t[ 4582.995709   306.630688  4582.545209]\t[-10000.           97.            0.032786]\t[     0.967949    916.        10000.      ]\n",
            "4  \t21    \t[-2999.35094   321.2      3000.04081]   \t[ 4583.000604   283.726324  4582.548978]\t[-10000.          103.            0.030769]\t[     0.984615    860.        10000.      ]\n",
            "5  \t18    \t[-2665.980513   310.2       2666.702904]\t[ 4422.580154   288.335383  4422.144535]\t[-10000.          112.            0.028205]\t[     0.984615    856.        10000.      ]\n",
            "6  \t13    \t[-1999.236154   270.033333  2000.035214]\t[ 4000.381923   273.950906  3999.982393]\t[-10000.          112.            0.028205]\t[     0.984615    854.        10000.      ]\n",
            "7  \t21    \t[-1999.227308   242.833333  2000.036248]\t[ 4000.386346   229.694447  3999.981876]\t[-10000.          129.            0.030769]\t[     0.984615    814.        10000.      ]\n",
            "8  \t21    \t[-2665.960299   313.7       2666.699697]\t[ 4422.592343   297.397954  4422.146469]\t[-10000.          121.            0.030769]\t[     0.984615    850.        10000.      ]\n",
            "9  \t17    \t[-1665.860641   247.5       1666.701485]\t[ 3727.140428   255.3323    3726.764391]\t[-10000.          124.            0.030769]\t[     0.984615    853.        10000.      ]\n",
            "10 \t16    \t[-2665.952051   319.3       2666.693723]\t[ 4422.597316   305.525247  4422.150071]\t[-10000.    125.      0.]                  \t[     1.    863.  10000.]                  \n",
            "11 \t15    \t[-1665.849402   251.433333  1666.690285]\t[ 3727.145455   258.101231  3726.7694  ]\t[-10000.    124.      0.]                  \t[     1.    860.  10000.]                  \n",
            "12 \t17    \t[-1665.845726   248.9       1666.680972]\t[ 3727.147098   253.155334  3726.773565]\t[-10000.    129.      0.]                  \t[     1.    866.  10000.]                  \n",
            "13 \t14    \t[-1999.206966   267.3       2000.008671]\t[ 4000.396517   268.786303  3999.995665]\t[-10000.    127.      0.]                  \t[     1.    836.  10000.]                  \n",
            "14 \t20    \t[-999.108077  200.966667 1000.012848]   \t[ 3000.297308   209.659324  2999.995717]\t[-10000.    127.      0.]                  \t[     1.    855.  10000.]                  \n",
            "15 \t13    \t[-1332.47047    221.        1333.340114]\t[ 3399.684785   230.510303  3399.343683]\t[-10000.    127.      0.]                  \t[     1.    830.  10000.]                  \n",
            "16 \t22    \t[-2665.935556   313.1       2666.67025 ]\t[ 4422.607264   304.322674  4422.164226]\t[-10000.    126.      0.]                  \t[     1.    846.  10000.]                  \n",
            "17 \t18    \t[-1999.201111   261.1       2000.002222]\t[ 4000.399444   274.046876  3999.998889]\t[-10000.    128.      0.]                  \t[     1.   1064.  10000.]                  \n",
            "18 \t15    \t[-3332.666667   359.4       3333.333333]\t[ 4714.516612   325.793247  4714.045208]\t[-10000.    129.      0.]                  \t[     1.    866.  10000.]                  \n",
            "19 \t22    \t[-2999.302735   328.433333  3000.002204]\t[ 4583.032162   315.874309  4582.574252]\t[-10000.    126.      0.]                  \t[     1.   1079.  10000.]                  \n",
            "20 \t19    \t[-1999.203248   275.        2000.001993]\t[ 4000.398376   280.891675  3999.999004]\t[-10000.    129.      0.]                  \t[     1.    927.  10000.]                  \n",
            "21 \t19    \t[-2665.933333   310.733333  2666.666667]\t[ 4422.608604   301.685149  4422.166387]\t[-10000.    129.      0.]                  \t[     1.    857.  10000.]                  \n",
            "22 \t22    \t[-3332.666667   360.733333  3333.333333]\t[ 4714.516612   328.349198  4714.045208]\t[-10000.    129.      0.]                  \t[     1.    900.  10000.]                  \n",
            "23 \t14    \t[-3332.666667   363.266667  3333.333333]\t[ 4714.516612   331.639054  4714.045208]\t[-10000.    129.      0.]                  \t[     1.    871.  10000.]                  \n",
            "24 \t20    \t[-2665.933333   304.466667  2666.666667]\t[ 4422.608604   321.989206  4422.166387]\t[-10000.    129.      0.]                  \t[     1.   1382.  10000.]                  \n",
            "25 \t12    \t[-999.1       196.466667 1000.      ]   \t[ 3000.3        202.500326  3000.      ]\t[-10000.    129.      0.]                  \t[     1.    831.  10000.]                  \n",
            "26 \t13    \t[-1999.2        268.366667  2000.      ]\t[ 4000.4        278.909721  4000.      ]\t[-10000.    129.      0.]                  \t[     1.    861.  10000.]                  \n",
            "27 \t18    \t[-1332.466667   221.133333  1333.333333]\t[ 3399.686277   234.905191  3399.346342]\t[-10000.    129.      0.]                  \t[     1.    830.  10000.]                  \n",
            "28 \t18    \t[-2332.566667   286.733333  2333.333333]\t[ 4229.948799   286.09112   4229.525847]\t[-10000.    129.      0.]                  \t[     1.    845.  10000.]                  \n",
            "29 \t16    \t[-332.366667  152.033333  333.333333]   \t[ 1795.234441   124.038296  1795.054936]\t[-10000.    129.      0.]                  \t[     1.    820.  10000.]                  \n",
            "30 \t19    \t[-1999.2        263.533333  2000.      ]\t[ 4000.4        269.175498  4000.      ]\t[-10000.    129.      0.]                  \t[     1.    823.  10000.]                  \n",
            "31 \t13    \t[-665.733333  175.466667  666.666667]   \t[ 2494.687702   173.946876  2494.438258]\t[-10000.    129.      0.]                  \t[     1.    847.  10000.]                  \n",
            "32 \t15    \t[-1332.466667   219.133333  1333.333333]\t[ 3399.686277   229.907334  3399.346342]\t[-10000.    129.      0.]                  \t[     1.    830.  10000.]                  \n",
            "33 \t12    \t[-999.1  194.8 1000. ]                  \t[ 3000.3        197.435627  3000.      ]\t[-10000.    129.      0.]                  \t[     1.    802.  10000.]                  \n",
            "34 \t23    \t[-1665.833333   243.3       1666.666667]\t[ 3727.15264    255.693586  3726.779962]\t[-10000.    129.      0.]                  \t[     1.    843.  10000.]                  \n",
            "35 \t17    \t[-2665.933333   312.333333  2666.666667]\t[ 4422.608604   304.152411  4422.166387]\t[-10000.    129.      0.]                  \t[     1.    846.  10000.]                  \n",
            "36 \t17    \t[-2999.3        333.166667  3000.      ]\t[ 4583.033953   312.229198  4582.575695]\t[-10000.    129.      0.]                  \t[     1.    852.  10000.]                  \n",
            "37 \t21    \t[-1665.833333   242.133333  1666.666667]\t[ 3727.15264    253.006552  3726.779962]\t[-10000.    129.      0.]                  \t[     1.    819.  10000.]                  \n",
            "38 \t17    \t[-1999.2   265.9  2000. ]               \t[ 4000.4        273.913411  4000.      ]\t[-10000.    129.      0.]                  \t[     1.    840.  10000.]                  \n",
            "39 \t16    \t[-1665.833333   244.033333  1666.666667]\t[ 3727.15264    257.256873  3726.779962]\t[-10000.    129.      0.]                  \t[     1.    830.  10000.]                  \n",
            "40 \t16    \t[-2332.566667   285.9       2333.333333]\t[ 4229.948799   284.616859  4229.525847]\t[-10000.    129.      0.]                  \t[     1.    837.  10000.]                  \n",
            "41 \t15    \t[-1999.2   265.4  2000. ]               \t[ 4000.4        272.934131  4000.      ]\t[-10000.    129.      0.]                  \t[     1.    834.  10000.]                  \n",
            "42 \t19    \t[-1665.833333   239.366667  1666.666667]\t[ 3727.15264    246.935414  3726.779962]\t[-10000.    129.      0.]                  \t[     1.    821.  10000.]                  \n",
            "43 \t14    \t[-1999.2        261.666667  2000.      ]\t[ 4000.4        265.626973  4000.      ]\t[-10000.    129.      0.]                  \t[     1.    834.  10000.]                  \n",
            "44 \t18    \t[-1332.466667   221.133333  1333.333333]\t[ 3399.686277   234.918672  3399.346342]\t[-10000.    129.      0.]                  \t[     1.    834.  10000.]                  \n",
            "45 \t20    \t[-2665.933333   307.        2666.666667]\t[ 4422.608604   295.257063  4422.166387]\t[-10000.    129.      0.]                  \t[     1.    814.  10000.]                  \n",
            "46 \t18    \t[-999.1  196.2 1000. ]                  \t[ 3000.3        201.651746  3000.      ]\t[-10000.    129.      0.]                  \t[     1.    820.  10000.]                  \n",
            "47 \t17    \t[-665.733333  172.9       666.666667]   \t[ 2494.687702   164.290464  2494.438258]\t[-10000.    129.      0.]                  \t[     1.    800.  10000.]                  \n",
            "48 \t14    \t[-1665.833333   241.733333  1666.666667]\t[ 3727.15264    252.136462  3726.779962]\t[-10000.    129.      0.]                  \t[     1.    822.  10000.]                  \n",
            "49 \t13    \t[-1332.466667   221.366667  1333.333333]\t[ 3399.686277   235.602417  3399.346342]\t[-10000.    129.      0.]                  \t[     1.    850.  10000.]                  \n",
            "50 \t19    \t[-1999.2        267.866667  2000.      ]\t[ 4000.4        277.880158  4000.      ]\t[-10000.    129.      0.]                  \t[     1.    852.  10000.]                  \n",
            "runnnnnnnnnnnnnn 2\n",
            "[False False False ... False False False]\n",
            "[array([   8,  144,  169,  206,  223,  298,  305,  307,  325,  380,  448,\n",
            "        488,  501,  514,  524,  777,  811,  812,  813,  822,  964,  980,\n",
            "       1012, 1050, 1098, 1229, 1290, 1304, 1362, 1370, 1379, 1405, 1459,\n",
            "       1595, 1634, 1679, 1703, 1719, 1722, 1738, 1746, 1789, 1870, 1876,\n",
            "       1967, 2023, 2044, 2172, 2192, 2224, 2248, 2282, 2378, 2587, 2595,\n",
            "       2654, 2695, 2840, 2868, 2882, 2906, 3073, 3098, 3119, 3202, 3276,\n",
            "       3298, 3302, 3311, 3374, 3410, 3427, 3443, 3456, 3460, 3530, 3578,\n",
            "       3638, 3665, 3688, 3693, 3706, 3744, 3763, 3773, 3788, 3910, 3957,\n",
            "       3961, 4032, 4096, 4127, 4175, 4192, 4213, 4384, 4393, 4494, 4676,\n",
            "       4720, 4733, 4785, 4794, 4899, 4927, 5086, 5148, 5185, 5217, 5234,\n",
            "       5238, 5302, 5344, 5369, 5431, 5436, 5513, 5635, 5650, 5709, 5750,\n",
            "       5843, 5882, 5895, 5934, 5937, 5989, 6085, 6094, 6200, 6290, 6361,\n",
            "       6389, 6408, 6417, 6429, 6559, 6574, 6616, 6819, 6849, 6977, 7028,\n",
            "       7069]), array([  15,   38,   87,  155,  233,  246,  260,  263,  281,  300,  305,\n",
            "        376,  378,  391,  397,  406,  451,  471,  549,  602,  621,  625,\n",
            "        824,  834,  910,  961, 1016, 1126, 1323, 1382, 1383, 1427, 1432,\n",
            "       1471, 1480, 1535, 1561, 1672, 1703, 1714, 1742, 1835, 1860, 1924,\n",
            "       1933, 2036, 2093, 2168, 2223, 2243, 2302, 2336, 2465, 2505, 2518,\n",
            "       2616, 2741, 2858, 2906, 2954, 2971, 3098, 3105, 3135, 3150, 3156,\n",
            "       3242, 3265, 3364, 3366, 3432, 3510, 3551, 3556, 3744, 3858, 3908,\n",
            "       3967, 4016, 4025, 4122, 4153, 4162, 4174, 4192, 4210, 4244, 4246,\n",
            "       4348, 4354, 4371, 4423, 4437, 4457, 4478, 4518, 4625, 4810, 4824,\n",
            "       4901, 4913, 4932, 4955, 5017, 5040, 5049, 5090, 5095, 5213, 5221,\n",
            "       5238, 5246, 5291, 5320, 5412, 5472, 5511, 5549, 5588, 5606, 5620,\n",
            "       5651, 5658, 5659, 5729, 5803, 5817, 5917, 6123, 6451, 6467, 6592,\n",
            "       6782, 6847, 6862, 7009, 7035, 7043, 7068]), array([  54,  108,  201,  234,  400,  406,  434,  795,  814,  892, 1069,\n",
            "       1093, 1224, 1236, 1386, 1426, 1446, 1448, 1467, 1496, 1555, 1572,\n",
            "       1608, 1846, 1897, 1915, 1955, 2060, 2165, 2180, 2248, 2254, 2323,\n",
            "       2395, 2404, 2469, 2494, 2513, 2552, 2641, 2681, 2683, 2686, 2742,\n",
            "       2779, 2796, 2871, 2914, 2928, 3007, 3049, 3069, 3218, 3242, 3346,\n",
            "       3411, 3421, 3564, 3649, 3676, 3694, 3725, 3791, 3816, 3930, 4032,\n",
            "       4086, 4198, 4267, 4284, 4417, 4454, 4462, 4491, 4572, 4698, 4768,\n",
            "       4773, 4793, 4810, 4839, 4841, 4975, 4984, 4988, 4993, 4999, 5018,\n",
            "       5061, 5063, 5087, 5116, 5138, 5154, 5191, 5210, 5213, 5246, 5298,\n",
            "       5396, 5401, 5500, 5523, 5528, 5560, 5581, 5639, 5738, 5819, 5845,\n",
            "       5896, 6009, 6066, 6086, 6268, 6271, 6292, 6299, 6330, 6378, 6387,\n",
            "       6562, 6593, 6653, 6849, 6852, 6911, 6920, 7054])]\n",
            "Selecting features with genetic algorithm.\n",
            "gen\tnevals\tavg                                  \tstd                               \tmin                               \tmax                                  \n",
            "0  \t30    \t[   0.874402  151.566667    0.074179]\t[  0.065069  87.167533   0.032407]\t[  0.684615  17.         0.032786]\t[   0.95      287.          0.154677]\n",
            "1  \t16    \t[-1332.540085   291.333333  1333.386791]\t[ 3399.65748    239.745884  3399.325375]\t[-10000.           37.            0.032786]\t[     0.952564    919.        10000.      ]\n",
            "2  \t16    \t[-1999.255812   351.9       2000.04789 ]\t[ 4000.372094   283.354354  3999.976055]\t[-10000.           88.            0.032786]\t[     0.966667    973.        10000.      ]\n",
            "3  \t19    \t[-2999.342692   417.5       3000.042494]\t[ 4583.006004   307.72225   4582.547876]\t[-10000.           88.            0.032786]\t[     0.966667    942.        10000.      ]\n",
            "4  \t21    \t[-2999.343205   390.566667  3000.04046 ]\t[ 4583.005668   273.741811  4582.549208]\t[-10000.          186.            0.032786]\t[     0.983333    901.        10000.      ]\n",
            "5  \t18    \t[-2665.967009   380.6       2666.706105]\t[ 4422.588297   284.765354  4422.142605]\t[-10000.          183.            0.033333]\t[     0.983333    930.        10000.      ]\n",
            "6  \t13    \t[-1999.231239   338.733333  2000.036196]\t[ 4000.38438    258.925463  3999.981902]\t[-10000.          183.            0.033333]\t[     0.983333    914.        10000.      ]\n",
            "7  \t21    \t[-1999.225769   308.866667  2000.033681]\t[ 4000.387115   219.697327  3999.983159]\t[-10000.    183.      0.]                  \t[     1.    856.  10000.]                  \n",
            "8  \t21    \t[-2665.958462   376.5       2666.696098]\t[ 4422.593451   289.379422  4422.148639]\t[-10000.    187.      0.]                  \t[     1.    870.  10000.]                  \n",
            "9  \t17    \t[-1665.862906   315.166667  1666.701662]\t[ 3727.139415   251.612411  3726.764312]\t[-10000.    186.      0.]                  \t[     1.    906.  10000.]                  \n",
            "10 \t16    \t[-2665.955043   383.2       2666.696511]\t[ 4422.595513   302.223582  4422.14839 ]\t[-10000.    186.      0.]                  \t[     1.    920.  10000.]                  \n",
            "11 \t15    \t[-1665.855256   311.533333  1666.699303]\t[ 3727.142836   254.682905  3726.765367]\t[-10000.    186.      0.]                  \t[     1.    910.  10000.]                  \n",
            "12 \t17    \t[-1665.852521   309.5       1666.695907]\t[ 3727.144059   250.414024  3726.766886]\t[-10000.    186.      0.]                  \t[     1.    930.  10000.]                  \n",
            "13 \t14    \t[-1999.214744   333.4       2000.022556]\t[ 4000.392628   265.022464  3999.988722]\t[-10000.    192.      0.]                  \t[     1.    900.  10000.]                  \n",
            "14 \t20    \t[-999.111068  271.933333 1000.019587]   \t[ 3000.296311   206.972934  2999.993471]\t[-10000.    191.      0.]                  \t[     1.    920.  10000.]                  \n",
            "15 \t13    \t[-1332.471111   294.233333  1333.341111]\t[ 3399.684534   228.275956  3399.343292]\t[-10000.    193.      0.]                  \t[     1.    901.  10000.]                  \n",
            "16 \t22    \t[-2665.935      385.233333  2666.669139]\t[ 4422.607599   298.534385  4422.164897]\t[-10000.    198.      0.]                  \t[     1.    917.  10000.]                  \n",
            "17 \t18    \t[-1999.201667   334.3       2000.002472]\t[ 4000.399167   268.507002  3999.998764]\t[-10000.    198.      0.]                  \t[     1.   1138.  10000.]                  \n",
            "18 \t15    \t[-3332.667778   430.533333  3333.334694]\t[ 4714.515827   318.46211   4714.044246]\t[-10000.    198.      0.]                  \t[     1.    935.  10000.]                  \n",
            "19 \t22    \t[-2999.301667   402.066667  3000.003333]\t[ 4583.032861   311.23431   4582.573513]\t[-10000.    199.      0.]                  \t[     1.   1142.  10000.]                  \n",
            "20 \t19    \t[-2332.566667   349.        2333.333333]\t[ 4229.948799   275.566689  4229.525847]\t[-10000.    206.      0.]                  \t[     1.    988.  10000.]                  \n",
            "21 \t19    \t[-2665.933333   383.466667  2666.666667]\t[ 4422.608604   294.608184  4422.166387]\t[-10000.    206.      0.]                  \t[     1.    928.  10000.]                  \n",
            "22 \t22    \t[-3332.666667   430.466667  3333.333333]\t[ 4714.516612   318.204309  4714.045208]\t[-10000.    206.      0.]                  \t[     1.    959.  10000.]                  \n",
            "23 \t14    \t[-3332.666667   436.733333  3333.333333]\t[ 4714.516612   326.688836  4714.045208]\t[-10000.    206.      0.]                  \t[     1.    938.  10000.]                  \n",
            "24 \t20    \t[-2665.933333   377.        2666.666667]\t[ 4422.608604   313.437181  4422.166387]\t[-10000.    206.      0.]                  \t[     1.   1423.  10000.]                  \n",
            "25 \t12    \t[-999.1  271.  1000. ]                  \t[ 3000.3        195.086818  3000.      ]\t[-10000.    206.      0.]                  \t[     1.    882.  10000.]                  \n",
            "26 \t13    \t[-1999.2        342.566667  2000.      ]\t[ 4000.4        273.297235  4000.      ]\t[-10000.    206.      0.]                  \t[     1.    920.  10000.]                  \n",
            "27 \t18    \t[-1332.466667   295.        1333.333333]\t[ 3399.686277   226.959908  3399.346342]\t[-10000.    206.      0.]                  \t[     1.    895.  10000.]                  \n",
            "28 \t18    \t[-2332.566667   360.2       2333.333333]\t[ 4229.948799   279.62575   4229.525847]\t[-10000.    206.      0.]                  \t[     1.    896.  10000.]                  \n",
            "29 \t16    \t[-332.366667  227.633333  333.333333]   \t[ 1795.234441   116.499065  1795.054936]\t[-10000.    206.      0.]                  \t[     1.    855.  10000.]                  \n",
            "30 \t19    \t[-1999.2        339.066667  2000.      ]\t[ 4000.4        266.195784  4000.      ]\t[-10000.    206.      0.]                  \t[     1.    884.  10000.]                  \n",
            "31 \t13    \t[-665.733333  251.2       666.666667]   \t[ 2494.687702   169.16154   2494.438258]\t[-10000.    206.      0.]                  \t[     1.    898.  10000.]                  \n",
            "32 \t15    \t[-1332.466667   293.733333  1333.333333]\t[ 3399.686277   223.699789  3399.346342]\t[-10000.    206.      0.]                  \t[     1.    874.  10000.]                  \n",
            "33 \t12    \t[-999.1       271.066667 1000.      ]   \t[ 3000.3        195.269034  3000.      ]\t[-10000.    206.      0.]                  \t[     1.    879.  10000.]                  \n",
            "34 \t23    \t[-1665.833333   318.7       1666.666667]\t[ 3727.15264    252.198883  3726.779962]\t[-10000.    206.      0.]                  \t[     1.    912.  10000.]                  \n",
            "35 \t17    \t[-2665.933333   384.        2666.666667]\t[ 4422.608604   295.363618  4422.166387]\t[-10000.    206.      0.]                  \t[     1.    896.  10000.]                  \n",
            "36 \t17    \t[-2999.3   403.5  3000. ]               \t[ 4583.033953   302.027013  4582.575695]\t[-10000.    206.      0.]                  \t[     1.    900.  10000.]                  \n",
            "37 \t21    \t[-1665.833333   315.8       1666.666667]\t[ 3727.15264    245.62375   3726.779962]\t[-10000.    206.      0.]                  \t[     1.    885.  10000.]                  \n",
            "38 \t17    \t[-1999.2   340.7  2000. ]               \t[ 4000.4        269.453663  4000.      ]\t[-10000.    206.      0.]                  \t[     1.    905.  10000.]                  \n",
            "39 \t16    \t[-1665.833333   318.833333  1666.666667]\t[ 3727.15264    252.423465  3726.779962]\t[-10000.    206.      0.]                  \t[     1.    901.  10000.]                  \n",
            "40 \t16    \t[-2332.566667   359.5       2333.333333]\t[ 4229.948799   278.471034  4229.525847]\t[-10000.    206.      0.]                  \t[     1.    906.  10000.]                  \n",
            "41 \t15    \t[-1999.2   340.4  2000. ]               \t[ 4000.4        268.971572  4000.      ]\t[-10000.    206.      0.]                  \t[     1.    915.  10000.]                  \n",
            "42 \t19    \t[-1665.833333   315.033333  1666.666667]\t[ 3727.15264    243.855214  3726.779962]\t[-10000.    206.      0.]                  \t[     1.    874.  10000.]                  \n",
            "43 \t14    \t[-1999.2   335.2  2000. ]               \t[ 4000.4        258.749093  4000.      ]\t[-10000.    206.      0.]                  \t[     1.    905.  10000.]                  \n",
            "44 \t18    \t[-1332.466667   294.933333  1333.333333]\t[ 3399.686277   226.76639   3399.346342]\t[-10000.    206.      0.]                  \t[     1.    885.  10000.]                  \n",
            "45 \t20    \t[-2665.933333   379.6       2666.666667]\t[ 4422.608604   288.10792   4422.166387]\t[-10000.    206.      0.]                  \t[     1.    899.  10000.]                  \n",
            "46 \t18    \t[-999.1       271.533333 1000.      ]   \t[ 3000.3        196.663119  3000.      ]\t[-10000.    206.      0.]                  \t[     1.    883.  10000.]                  \n",
            "47 \t17    \t[-665.733333  248.633333  666.666667]   \t[ 2494.687702   159.655146  2494.438258]\t[-10000.    206.      0.]                  \t[     1.    871.  10000.]                  \n",
            "48 \t14    \t[-1665.833333   315.733333  1666.666667]\t[ 3727.15264    245.502062  3726.779962]\t[-10000.    206.      0.]                  \t[     1.    887.  10000.]                  \n",
            "49 \t13    \t[-1332.466667   295.766667  1333.333333]\t[ 3399.686277   229.021496  3399.346342]\t[-10000.    206.      0.]                  \t[     1.    917.  10000.]                  \n",
            "50 \t19    \t[-1999.2   340.8  2000. ]               \t[ 4000.4        269.655385  4000.      ]\t[-10000.    206.      0.]                  \t[     1.    897.  10000.]                  \n",
            "runnnnnnnnnnnnnn 3\n",
            "[False False False ... False False False]\n",
            "[array([   8,  144,  169,  206,  223,  298,  305,  307,  325,  380,  448,\n",
            "        488,  501,  514,  524,  777,  811,  812,  813,  822,  964,  980,\n",
            "       1012, 1050, 1098, 1229, 1290, 1304, 1362, 1370, 1379, 1405, 1459,\n",
            "       1595, 1634, 1679, 1703, 1719, 1722, 1738, 1746, 1789, 1870, 1876,\n",
            "       1967, 2023, 2044, 2172, 2192, 2224, 2248, 2282, 2378, 2587, 2595,\n",
            "       2654, 2695, 2840, 2868, 2882, 2906, 3073, 3098, 3119, 3202, 3276,\n",
            "       3298, 3302, 3311, 3374, 3410, 3427, 3443, 3456, 3460, 3530, 3578,\n",
            "       3638, 3665, 3688, 3693, 3706, 3744, 3763, 3773, 3788, 3910, 3957,\n",
            "       3961, 4032, 4096, 4127, 4175, 4192, 4213, 4384, 4393, 4494, 4676,\n",
            "       4720, 4733, 4785, 4794, 4899, 4927, 5086, 5148, 5185, 5217, 5234,\n",
            "       5238, 5302, 5344, 5369, 5431, 5436, 5513, 5635, 5650, 5709, 5750,\n",
            "       5843, 5882, 5895, 5934, 5937, 5989, 6085, 6094, 6200, 6290, 6361,\n",
            "       6389, 6408, 6417, 6429, 6559, 6574, 6616, 6819, 6849, 6977, 7028,\n",
            "       7069]), array([  15,   38,   87,  155,  233,  246,  260,  263,  281,  300,  305,\n",
            "        376,  378,  391,  397,  406,  451,  471,  549,  602,  621,  625,\n",
            "        824,  834,  910,  961, 1016, 1126, 1323, 1382, 1383, 1427, 1432,\n",
            "       1471, 1480, 1535, 1561, 1672, 1703, 1714, 1742, 1835, 1860, 1924,\n",
            "       1933, 2036, 2093, 2168, 2223, 2243, 2302, 2336, 2465, 2505, 2518,\n",
            "       2616, 2741, 2858, 2906, 2954, 2971, 3098, 3105, 3135, 3150, 3156,\n",
            "       3242, 3265, 3364, 3366, 3432, 3510, 3551, 3556, 3744, 3858, 3908,\n",
            "       3967, 4016, 4025, 4122, 4153, 4162, 4174, 4192, 4210, 4244, 4246,\n",
            "       4348, 4354, 4371, 4423, 4437, 4457, 4478, 4518, 4625, 4810, 4824,\n",
            "       4901, 4913, 4932, 4955, 5017, 5040, 5049, 5090, 5095, 5213, 5221,\n",
            "       5238, 5246, 5291, 5320, 5412, 5472, 5511, 5549, 5588, 5606, 5620,\n",
            "       5651, 5658, 5659, 5729, 5803, 5817, 5917, 6123, 6451, 6467, 6592,\n",
            "       6782, 6847, 6862, 7009, 7035, 7043, 7068]), array([  54,  108,  201,  234,  400,  406,  434,  795,  814,  892, 1069,\n",
            "       1093, 1224, 1236, 1386, 1426, 1446, 1448, 1467, 1496, 1555, 1572,\n",
            "       1608, 1846, 1897, 1915, 1955, 2060, 2165, 2180, 2248, 2254, 2323,\n",
            "       2395, 2404, 2469, 2494, 2513, 2552, 2641, 2681, 2683, 2686, 2742,\n",
            "       2779, 2796, 2871, 2914, 2928, 3007, 3049, 3069, 3218, 3242, 3346,\n",
            "       3411, 3421, 3564, 3649, 3676, 3694, 3725, 3791, 3816, 3930, 4032,\n",
            "       4086, 4198, 4267, 4284, 4417, 4454, 4462, 4491, 4572, 4698, 4768,\n",
            "       4773, 4793, 4810, 4839, 4841, 4975, 4984, 4988, 4993, 4999, 5018,\n",
            "       5061, 5063, 5087, 5116, 5138, 5154, 5191, 5210, 5213, 5246, 5298,\n",
            "       5396, 5401, 5500, 5523, 5528, 5560, 5581, 5639, 5738, 5819, 5845,\n",
            "       5896, 6009, 6066, 6086, 6268, 6271, 6292, 6299, 6330, 6378, 6387,\n",
            "       6562, 6593, 6653, 6849, 6852, 6911, 6920, 7054]), array([  53,   69,  152,  163,  181,  194,  267,  313,  382,  399,  407,\n",
            "        422,  429,  440,  539,  583,  585,  704,  731,  826,  838,  855,\n",
            "        856,  860,  898,  921, 1070, 1163, 1221, 1229, 1424, 1431, 1435,\n",
            "       1514, 1594, 1602, 1622, 1722, 1816, 1824, 1833, 1834, 1915, 1950,\n",
            "       1963, 2004, 2056, 2106, 2126, 2176, 2184, 2186, 2256, 2263, 2342,\n",
            "       2395, 2426, 2435, 2437, 2478, 2485, 2634, 2637, 2693, 2709, 2733,\n",
            "       2770, 2806, 2832, 2844, 2848, 2857, 2869, 2937, 2960, 3026, 3068,\n",
            "       3085, 3131, 3198, 3201, 3206, 3227, 3234, 3240, 3251, 3319, 3322,\n",
            "       3397, 3425, 3459, 3466, 3533, 3572, 3580, 3597, 3633, 3688, 3701,\n",
            "       3702, 3734, 3741, 3840, 3931, 3950, 3978, 3990, 4035, 4096, 4104,\n",
            "       4142, 4169, 4200, 4245, 4263, 4385, 4428, 4436, 4463, 4466, 4509,\n",
            "       4535, 4636, 4681, 4694, 4696, 4702, 4765, 4794, 4796, 4797, 4875,\n",
            "       4879, 4882, 4990, 4991, 5063, 5095, 5115, 5127, 5151, 5156, 5204,\n",
            "       5211, 5215, 5244, 5263, 5314, 5324, 5327, 5420, 5437, 5476, 5494,\n",
            "       5670, 5726, 5747, 5765, 5794, 5808, 5820, 5881, 5892, 5920, 5932,\n",
            "       6001, 6004, 6023, 6028, 6050, 6051, 6067, 6088, 6129, 6157, 6181,\n",
            "       6247, 6252, 6263, 6276, 6325, 6379, 6390, 6408, 6409, 6439, 6449,\n",
            "       6466, 6475, 6492, 6504, 6512, 6523, 6555, 6638, 6710, 6740, 6748,\n",
            "       6828, 6893, 6908, 6930, 6990, 7023, 7044, 7059])]\n",
            "Selecting features with genetic algorithm.\n",
            "gen\tnevals\tavg                                  \tstd                               \tmin                               \tmax                                  \n",
            "0  \t30    \t[   0.873974  162.733333    0.067956]\t[  0.048238  84.947016   0.020323]\t[  0.753846  24.         0.034065]\t[   0.934615  299.          0.122676]\n",
            "1  \t16    \t[-1332.551838   285.566667  1333.394054]\t[ 3399.65287    246.751924  3399.322526]\t[-10000.           34.            0.034065]\t[     0.966667    909.        10000.      ]\n",
            "2  \t16    \t[-1999.26859    362.166667  2000.05968 ]\t[ 4000.365705   270.980698  3999.97016 ]\t[-10000.           77.            0.032786]\t[     0.966667    918.        10000.      ]\n",
            "3  \t19    \t[-2999.352308   423.5       3000.045271]\t[ 4582.999709   306.543934  4582.546058]\t[-10000.           77.            0.033333]\t[     0.983333    946.        10000.      ]\n",
            "4  \t21    \t[-2999.339231   403.3       3000.037815]\t[ 4583.00827    277.467734  4582.550939]\t[-10000.          212.            0.032786]\t[     0.983333    916.        10000.      ]\n",
            "5  \t18    \t[-2665.964915   396.9       2666.701376]\t[ 4422.58956    283.073883  4422.145456]\t[-10000.          212.            0.033333]\t[     0.983333    944.        10000.      ]\n",
            "6  \t13    \t[-1999.223889   362.766667  2000.03246 ]\t[ 4000.388056   259.693625  3999.98377 ]\t[-10000.          212.            0.033333]\t[     0.983333    922.        10000.      ]\n",
            "7  \t21    \t[-1999.222778   344.066667  2000.031367]\t[ 4000.388611   223.545362  3999.984316]\t[-10000.          212.            0.033333]\t[     0.983333    907.        10000.      ]\n",
            "8  \t21    \t[-2665.951111   416.066667  2666.693952]\t[ 4422.597883   288.693024  4422.149934]\t[-10000.          219.            0.033333]\t[     0.983333    918.        10000.      ]\n",
            "9  \t17    \t[-1665.848333   354.466667  1666.694944]\t[ 3727.145932   247.191388  3726.767317]\t[-10000.          241.            0.033333]\t[     0.983333    932.        10000.      ]\n",
            "10 \t16    \t[-2665.946111   422.1       2666.691361]\t[ 4422.600898   295.878843  4422.151496]\t[-10000.          241.            0.033333]\t[     0.983333    945.        10000.      ]\n",
            "11 \t15    \t[-1665.847778   357.266667  1666.694694]\t[ 3727.146181   253.654743  3726.767428]\t[-10000.          241.            0.033333]\t[     0.983333    954.        10000.      ]\n",
            "12 \t17    \t[-1665.847222   352.433333  1666.694444]\t[ 3727.146429   242.679306  3726.76754 ]\t[-10000.          244.            0.033333]\t[     0.983333    935.        10000.      ]\n",
            "13 \t14    \t[-1999.213333   375.133333  2000.026667]\t[ 4000.393333   262.485394  3999.986667]\t[-10000.          244.            0.033333]\t[     0.983333    936.        10000.      ]\n",
            "14 \t20    \t[-999.115     311.366667 1000.03    ]   \t[ 3000.295      202.182506  2999.99    ]\t[-10000.          244.            0.033333]\t[     0.983333    942.        10000.      ]\n",
            "15 \t13    \t[-1332.481111   331.266667  1333.362222]\t[ 3399.680611   222.577467  3399.335011]\t[-10000.          244.            0.033333]\t[     0.983333    923.        10000.      ]\n",
            "16 \t22    \t[-2665.945556   419.633333  2666.691111]\t[ 4422.601234   291.406987  4422.151647]\t[-10000.          244.            0.033333]\t[     0.983333    937.        10000.      ]\n",
            "17 \t18    \t[-1999.213333   370.933333  2000.026667]\t[ 4000.393333   264.718458  3999.986667]\t[-10000.          244.            0.033333]\t[     0.983333   1152.        10000.      ]\n",
            "18 \t15    \t[-3332.677778   465.066667  3333.355556]\t[ 4714.508756   313.078577  4714.029494]\t[-10000.          244.            0.033333]\t[     0.983333    958.        10000.      ]\n",
            "19 \t22    \t[-2999.311667   435.333333  3000.023333]\t[ 4583.026315   303.322527  4582.56042 ]\t[-10000.          244.            0.033333]\t[     0.983333   1158.        10000.      ]\n",
            "20 \t19    \t[-2332.579444   383.066667  2333.358889]\t[ 4229.94175    267.82593   4229.511748]\t[-10000.          244.            0.033333]\t[     0.983333    996.        10000.      ]\n",
            "21 \t19    \t[-2665.945556   418.133333  2666.691111]\t[ 4422.601234   289.149296  4422.151647]\t[-10000.          244.            0.033333]\t[     0.983333    946.        10000.      ]\n",
            "22 \t22    \t[-3332.677778   468.6       3333.355556]\t[ 4714.508756   318.163438  4714.029494]\t[-10000.          244.            0.033333]\t[     0.983333    983.        10000.      ]\n",
            "23 \t14    \t[-3332.677778   469.466667  3333.355556]\t[ 4714.508756   319.270599  4714.029494]\t[-10000.          244.            0.033333]\t[     0.983333    970.        10000.      ]\n",
            "24 \t20    \t[-2665.945556   412.333333  2666.691111]\t[ 4422.601234   308.340973  4422.151647]\t[-10000.          244.            0.033333]\t[     0.983333   1437.        10000.      ]\n",
            "25 \t12    \t[-999.115  308.8   1000.03 ]            \t[ 3000.295      194.413031  2999.99    ]\t[-10000.          244.            0.033333]\t[     0.983333    898.        10000.      ]\n",
            "26 \t13    \t[-1999.213333   378.833333  2000.026667]\t[ 4000.393333   269.773125  3999.986667]\t[-10000.          244.            0.033333]\t[     0.983333    946.        10000.      ]\n",
            "27 \t18    \t[-1332.481111   333.333333  1333.362222]\t[ 3399.680611   227.814593  3399.335011]\t[-10000.          244.            0.033333]\t[     0.983333    931.        10000.      ]\n",
            "28 \t18    \t[-2332.579444   396.666667  2333.358889]\t[ 4229.94175    276.873056  4229.511748]\t[-10000.          244.            0.033333]\t[     0.983333    928.        10000.      ]\n",
            "29 \t16    \t[-332.382778  265.966667  333.365556]   \t[ 1795.231449   118.29412   1795.048952]\t[-10000.          244.            0.033333]\t[     0.983333    903.        10000.      ]\n",
            "30 \t19    \t[-1999.213333   376.533333  2000.026667]\t[ 4000.393333   265.19876   3999.986667]\t[-10000.          244.            0.033333]\t[     0.983333    928.        10000.      ]\n",
            "31 \t13    \t[-665.748889  289.866667  666.697778]   \t[ 2494.683544   171.655417  2494.429943]\t[-10000.          244.            0.033333]\t[     0.983333    946.        10000.      ]\n",
            "32 \t15    \t[-1332.481111   330.733333  1333.362222]\t[ 3399.680611   221.217982  3399.335011]\t[-10000.          244.            0.033333]\t[     0.983333    915.        10000.      ]\n",
            "33 \t12    \t[-999.115  306.4   1000.03 ]            \t[ 3000.295      187.251453  2999.99    ]\t[-10000.          244.            0.033333]\t[     0.983333    885.        10000.      ]\n",
            "34 \t23    \t[-1665.847222   353.966667  1666.694444]\t[ 3727.146429   246.111016  3726.76754 ]\t[-10000.          244.            0.033333]\t[     0.983333    942.        10000.      ]\n",
            "35 \t17    \t[-2665.945556   422.666667  2666.691111]\t[ 4422.601234   296.383348  4422.151647]\t[-10000.          244.            0.033333]\t[     0.983333    934.        10000.      ]\n",
            "36 \t17    \t[-2999.311667   439.1       3000.023333]\t[ 4583.026315   298.351063  4582.56042 ]\t[-10000.          244.            0.033333]\t[     0.983333    935.        10000.      ]\n",
            "37 \t21    \t[-1665.847222   353.066667  1666.694444]\t[ 3727.146429   243.91842   3726.76754 ]\t[-10000.          244.            0.033333]\t[     0.983333    909.        10000.      ]\n",
            "38 \t17    \t[-1999.213333   376.233333  2000.026667]\t[ 4000.393333   264.55216   3999.986667]\t[-10000.          244.            0.033333]\t[     0.983333    931.        10000.      ]\n",
            "39 \t16    \t[-1665.847222   355.1       1666.694444]\t[ 3727.146429   248.471373  3726.76754 ]\t[-10000.          244.            0.033333]\t[     0.983333    921.        10000.      ]\n",
            "40 \t16    \t[-2332.579444   397.033333  2333.358889]\t[ 4229.94175    277.668325  4229.511748]\t[-10000.          244.            0.033333]\t[     0.983333    944.        10000.      ]\n",
            "41 \t15    \t[-1999.213333   376.733333  2000.026667]\t[ 4000.393333   265.565301  3999.986667]\t[-10000.          244.            0.033333]\t[     0.983333    929.        10000.      ]\n",
            "42 \t19    \t[-1665.847222   351.5       1666.694444]\t[ 3727.146429   240.487941  3726.76754 ]\t[-10000.          244.            0.033333]\t[     0.983333    918.        10000.      ]\n",
            "43 \t14    \t[-1999.213333   371.933333  2000.026667]\t[ 4000.393333   256.083051  3999.986667]\t[-10000.          244.            0.033333]\t[     0.983333    929.        10000.      ]\n",
            "44 \t18    \t[-1332.481111   332.        1333.362222]\t[ 3399.680611   224.423706  3399.335011]\t[-10000.          244.            0.033333]\t[     0.983333    925.        10000.      ]\n",
            "45 \t20    \t[-2665.945556   416.866667  2666.691111]\t[ 4422.601234   286.795134  4422.151647]\t[-10000.          244.            0.033333]\t[     0.983333    913.        10000.      ]\n",
            "46 \t18    \t[-999.115     309.133333 1000.03    ]   \t[ 3000.295      195.480559  2999.99    ]\t[-10000.          244.            0.033333]\t[     0.983333    915.        10000.      ]\n",
            "47 \t17    \t[-665.748889  284.966667  666.697778]   \t[ 2494.683544   153.459763  2494.429943]\t[-10000.          244.            0.033333]\t[     0.983333    887.        10000.      ]\n",
            "48 \t14    \t[-1665.847222   351.866667  1666.694444]\t[ 3727.146429   241.255015  3726.76754 ]\t[-10000.          244.            0.033333]\t[     0.983333    907.        10000.      ]\n",
            "49 \t13    \t[-1332.481111   333.633333  1333.362222]\t[ 3399.680611   228.659497  3399.335011]\t[-10000.          244.            0.033333]\t[     0.983333    953.        10000.      ]\n",
            "50 \t19    \t[-1999.213333   377.8       2000.026667]\t[ 4000.393333   267.707726  3999.986667]\t[-10000.          244.            0.033333]\t[     0.983333    933.        10000.      ]\n",
            "runnnnnnnnnnnnnn 4\n",
            "[False False False ... False False False]\n",
            "[array([   8,  144,  169,  206,  223,  298,  305,  307,  325,  380,  448,\n",
            "        488,  501,  514,  524,  777,  811,  812,  813,  822,  964,  980,\n",
            "       1012, 1050, 1098, 1229, 1290, 1304, 1362, 1370, 1379, 1405, 1459,\n",
            "       1595, 1634, 1679, 1703, 1719, 1722, 1738, 1746, 1789, 1870, 1876,\n",
            "       1967, 2023, 2044, 2172, 2192, 2224, 2248, 2282, 2378, 2587, 2595,\n",
            "       2654, 2695, 2840, 2868, 2882, 2906, 3073, 3098, 3119, 3202, 3276,\n",
            "       3298, 3302, 3311, 3374, 3410, 3427, 3443, 3456, 3460, 3530, 3578,\n",
            "       3638, 3665, 3688, 3693, 3706, 3744, 3763, 3773, 3788, 3910, 3957,\n",
            "       3961, 4032, 4096, 4127, 4175, 4192, 4213, 4384, 4393, 4494, 4676,\n",
            "       4720, 4733, 4785, 4794, 4899, 4927, 5086, 5148, 5185, 5217, 5234,\n",
            "       5238, 5302, 5344, 5369, 5431, 5436, 5513, 5635, 5650, 5709, 5750,\n",
            "       5843, 5882, 5895, 5934, 5937, 5989, 6085, 6094, 6200, 6290, 6361,\n",
            "       6389, 6408, 6417, 6429, 6559, 6574, 6616, 6819, 6849, 6977, 7028,\n",
            "       7069]), array([  15,   38,   87,  155,  233,  246,  260,  263,  281,  300,  305,\n",
            "        376,  378,  391,  397,  406,  451,  471,  549,  602,  621,  625,\n",
            "        824,  834,  910,  961, 1016, 1126, 1323, 1382, 1383, 1427, 1432,\n",
            "       1471, 1480, 1535, 1561, 1672, 1703, 1714, 1742, 1835, 1860, 1924,\n",
            "       1933, 2036, 2093, 2168, 2223, 2243, 2302, 2336, 2465, 2505, 2518,\n",
            "       2616, 2741, 2858, 2906, 2954, 2971, 3098, 3105, 3135, 3150, 3156,\n",
            "       3242, 3265, 3364, 3366, 3432, 3510, 3551, 3556, 3744, 3858, 3908,\n",
            "       3967, 4016, 4025, 4122, 4153, 4162, 4174, 4192, 4210, 4244, 4246,\n",
            "       4348, 4354, 4371, 4423, 4437, 4457, 4478, 4518, 4625, 4810, 4824,\n",
            "       4901, 4913, 4932, 4955, 5017, 5040, 5049, 5090, 5095, 5213, 5221,\n",
            "       5238, 5246, 5291, 5320, 5412, 5472, 5511, 5549, 5588, 5606, 5620,\n",
            "       5651, 5658, 5659, 5729, 5803, 5817, 5917, 6123, 6451, 6467, 6592,\n",
            "       6782, 6847, 6862, 7009, 7035, 7043, 7068]), array([  54,  108,  201,  234,  400,  406,  434,  795,  814,  892, 1069,\n",
            "       1093, 1224, 1236, 1386, 1426, 1446, 1448, 1467, 1496, 1555, 1572,\n",
            "       1608, 1846, 1897, 1915, 1955, 2060, 2165, 2180, 2248, 2254, 2323,\n",
            "       2395, 2404, 2469, 2494, 2513, 2552, 2641, 2681, 2683, 2686, 2742,\n",
            "       2779, 2796, 2871, 2914, 2928, 3007, 3049, 3069, 3218, 3242, 3346,\n",
            "       3411, 3421, 3564, 3649, 3676, 3694, 3725, 3791, 3816, 3930, 4032,\n",
            "       4086, 4198, 4267, 4284, 4417, 4454, 4462, 4491, 4572, 4698, 4768,\n",
            "       4773, 4793, 4810, 4839, 4841, 4975, 4984, 4988, 4993, 4999, 5018,\n",
            "       5061, 5063, 5087, 5116, 5138, 5154, 5191, 5210, 5213, 5246, 5298,\n",
            "       5396, 5401, 5500, 5523, 5528, 5560, 5581, 5639, 5738, 5819, 5845,\n",
            "       5896, 6009, 6066, 6086, 6268, 6271, 6292, 6299, 6330, 6378, 6387,\n",
            "       6562, 6593, 6653, 6849, 6852, 6911, 6920, 7054]), array([  53,   69,  152,  163,  181,  194,  267,  313,  382,  399,  407,\n",
            "        422,  429,  440,  539,  583,  585,  704,  731,  826,  838,  855,\n",
            "        856,  860,  898,  921, 1070, 1163, 1221, 1229, 1424, 1431, 1435,\n",
            "       1514, 1594, 1602, 1622, 1722, 1816, 1824, 1833, 1834, 1915, 1950,\n",
            "       1963, 2004, 2056, 2106, 2126, 2176, 2184, 2186, 2256, 2263, 2342,\n",
            "       2395, 2426, 2435, 2437, 2478, 2485, 2634, 2637, 2693, 2709, 2733,\n",
            "       2770, 2806, 2832, 2844, 2848, 2857, 2869, 2937, 2960, 3026, 3068,\n",
            "       3085, 3131, 3198, 3201, 3206, 3227, 3234, 3240, 3251, 3319, 3322,\n",
            "       3397, 3425, 3459, 3466, 3533, 3572, 3580, 3597, 3633, 3688, 3701,\n",
            "       3702, 3734, 3741, 3840, 3931, 3950, 3978, 3990, 4035, 4096, 4104,\n",
            "       4142, 4169, 4200, 4245, 4263, 4385, 4428, 4436, 4463, 4466, 4509,\n",
            "       4535, 4636, 4681, 4694, 4696, 4702, 4765, 4794, 4796, 4797, 4875,\n",
            "       4879, 4882, 4990, 4991, 5063, 5095, 5115, 5127, 5151, 5156, 5204,\n",
            "       5211, 5215, 5244, 5263, 5314, 5324, 5327, 5420, 5437, 5476, 5494,\n",
            "       5670, 5726, 5747, 5765, 5794, 5808, 5820, 5881, 5892, 5920, 5932,\n",
            "       6001, 6004, 6023, 6028, 6050, 6051, 6067, 6088, 6129, 6157, 6181,\n",
            "       6247, 6252, 6263, 6276, 6325, 6379, 6390, 6408, 6409, 6439, 6449,\n",
            "       6466, 6475, 6492, 6504, 6512, 6523, 6555, 6638, 6710, 6740, 6748,\n",
            "       6828, 6893, 6908, 6930, 6990, 7023, 7044, 7059]), array([  47,   59,   65,   99,  104,  117,  120,  122,  181,  191,  222,\n",
            "        230,  233,  236,  247,  257,  294,  320,  333,  345,  373,  381,\n",
            "        391,  400,  442,  447,  478,  514,  521,  553,  577,  622,  651,\n",
            "        653,  660,  721,  770,  774,  812,  850,  867,  876,  967,  975,\n",
            "        976,  987, 1007, 1073, 1086, 1093, 1131, 1172, 1181, 1219, 1233,\n",
            "       1287, 1314, 1341, 1389, 1424, 1434, 1493, 1509, 1520, 1591, 1598,\n",
            "       1669, 1698, 1744, 1746, 1787, 1824, 1837, 1843, 1860, 1874, 1924,\n",
            "       1930, 1956, 1974, 1977, 1999, 2043, 2138, 2145, 2203, 2256, 2282,\n",
            "       2319, 2326, 2354, 2481, 2503, 2507, 2516, 2518, 2539, 2577, 2706,\n",
            "       2782, 2809, 2813, 2829, 2850, 2894, 2934, 2940, 2953, 2957, 3092,\n",
            "       3096, 3102, 3107, 3129, 3135, 3196, 3208, 3252, 3261, 3289, 3391,\n",
            "       3396, 3414, 3421, 3486, 3491, 3510, 3549, 3555, 3560, 3576, 3583,\n",
            "       3664, 3709, 3735, 3752, 3811, 3825, 3947, 3963, 3969, 3984, 3989,\n",
            "       3990, 4019, 4023, 4024, 4068, 4077, 4110, 4134, 4171, 4178, 4220,\n",
            "       4255, 4353, 4421, 4448, 4492, 4498, 4514, 4515, 4536, 4540, 4578,\n",
            "       4613, 4624, 4674, 4739, 4817, 4821, 4866, 4877, 4883, 4919, 4927,\n",
            "       4959, 5107, 5124, 5160, 5208, 5209, 5221, 5236, 5253, 5307, 5318,\n",
            "       5357, 5414, 5444, 5521, 5546, 5614, 5631, 5639, 5706, 5730, 5896,\n",
            "       5924, 5943, 5998, 6015, 6045, 6058, 6149, 6189, 6199, 6245, 6267,\n",
            "       6283, 6284, 6350, 6378, 6394, 6397, 6414, 6431, 6433, 6435, 6479,\n",
            "       6497, 6542, 6545, 6558, 6580, 6592, 6602, 6610, 6630, 6685, 6699,\n",
            "       6701, 6729, 6773, 6799, 6809, 6841, 6862, 6893, 6907, 6974, 6997,\n",
            "       7006, 7041])]\n",
            "Mean Result: 172.4\n",
            "Common Features: set()\n"
          ]
        }
      ],
      "source": [
        "import random\n",
        "random.seed(42)\n",
        "num_executions = 5  # تعداد اجراها\n",
        "results = []  # لیست نتایج اجراها\n",
        "summ=0\n",
        "for i in range(num_executions):\n",
        "    random.seed(42)\n",
        "    out = selector.fit(X_train, y_train)\n",
        "    print(\"runnnnnnnnnnnnnn\",i)\n",
        "    selected_featuresindex = out.get_support(indices=True)\n",
        "    print(out.support_)\n",
        "    result = selected_featuresindex  # اجرای الگوریتم ژنتیک\n",
        "    summ+=len(selected_featuresindex)\n",
        "    results.append(result)  # ذخیره نتیجه در لیست\n",
        "    print(results)\n",
        "\n",
        "# محاسبه میانگین\n",
        "mean_result = summ / num_executions\n",
        "\n",
        "# یافتن ویژگی‌های مشترک\n",
        "common_features = set(results[0])  # فرض بر گرفتن ویژگی‌های اولیه\n",
        "\n",
        "for resultt in results:\n",
        "\n",
        "    common_features = common_features.intersection(set(resultt))\n",
        "    #common_features =common_features & set(results[result])\n",
        "\n",
        "\n",
        "\n",
        "\n",
        "\n",
        "print(\"Mean Result:\", mean_result)\n",
        "print(\"Common Features:\", common_features)"
      ]
    },
    {
      "cell_type": "code",
      "execution_count": null,
      "metadata": {
        "colab": {
          "base_uri": "https://localhost:8080/"
        },
        "id": "QrjZXBRrUjED",
        "outputId": "1226c2b3-7d7e-4647-9122-f79232f86e92"
      },
      "outputs": [
        {
          "output_type": "stream",
          "name": "stdout",
          "text": [
            "144 139 129 206 244\n"
          ]
        }
      ],
      "source": [
        "d=len(results)\n",
        "print(len(results[0]),len(results[1]),len(results[2]),len(results[3]),len(results[4]))\n",
        "\n"
      ]
    },
    {
      "cell_type": "markdown",
      "source": [
        "# name of featurese selected"
      ],
      "metadata": {
        "id": "BkTtBgtXIRpE"
      }
    },
    {
      "cell_type": "code",
      "source": [],
      "metadata": {
        "id": "Ey3AyU-wIRUO"
      },
      "execution_count": null,
      "outputs": []
    },
    {
      "cell_type": "code",
      "source": [
        "selected_featuresindex = selector.get_support(indices=True)\n",
        "print(len(selected_featuresindex))"
      ],
      "metadata": {
        "id": "8yHaJZnOH1XQ"
      },
      "execution_count": null,
      "outputs": []
    },
    {
      "cell_type": "code",
      "source": [
        "selected_features = [X_train_m.columns[i] for i, selected in enumerate(selector.support_) if selected]\n",
        "print(selected_features)\n",
        "print(len(selected_features))"
      ],
      "metadata": {
        "id": "w3CmBsSRH-La"
      },
      "execution_count": null,
      "outputs": []
    },
    {
      "cell_type": "markdown",
      "metadata": {
        "id": "EThVqmJEECTy"
      },
      "source": [
        "# 3Run  plot on logestic"
      ]
    },
    {
      "cell_type": "code",
      "execution_count": null,
      "metadata": {
        "colab": {
          "base_uri": "https://localhost:8080/"
        },
        "id": "MEyYdmkvbmLW",
        "outputId": "abf1e64c-d636-4302-b535-9830fda630a3"
      },
      "outputs": [
        {
          "output_type": "stream",
          "name": "stdout",
          "text": [
            "Collecting scikit-plot\n",
            "  Downloading scikit_plot-0.3.7-py3-none-any.whl (33 kB)\n",
            "Requirement already satisfied: matplotlib>=1.4.0 in /usr/local/lib/python3.10/dist-packages (from scikit-plot) (3.7.1)\n",
            "Requirement already satisfied: scikit-learn>=0.18 in /usr/local/lib/python3.10/dist-packages (from scikit-plot) (1.2.2)\n",
            "Requirement already satisfied: scipy>=0.9 in /usr/local/lib/python3.10/dist-packages (from scikit-plot) (1.11.4)\n",
            "Requirement already satisfied: joblib>=0.10 in /usr/local/lib/python3.10/dist-packages (from scikit-plot) (1.3.2)\n",
            "Requirement already satisfied: contourpy>=1.0.1 in /usr/local/lib/python3.10/dist-packages (from matplotlib>=1.4.0->scikit-plot) (1.2.0)\n",
            "Requirement already satisfied: cycler>=0.10 in /usr/local/lib/python3.10/dist-packages (from matplotlib>=1.4.0->scikit-plot) (0.12.1)\n",
            "Requirement already satisfied: fonttools>=4.22.0 in /usr/local/lib/python3.10/dist-packages (from matplotlib>=1.4.0->scikit-plot) (4.49.0)\n",
            "Requirement already satisfied: kiwisolver>=1.0.1 in /usr/local/lib/python3.10/dist-packages (from matplotlib>=1.4.0->scikit-plot) (1.4.5)\n",
            "Requirement already satisfied: numpy>=1.20 in /usr/local/lib/python3.10/dist-packages (from matplotlib>=1.4.0->scikit-plot) (1.25.2)\n",
            "Requirement already satisfied: packaging>=20.0 in /usr/local/lib/python3.10/dist-packages (from matplotlib>=1.4.0->scikit-plot) (23.2)\n",
            "Requirement already satisfied: pillow>=6.2.0 in /usr/local/lib/python3.10/dist-packages (from matplotlib>=1.4.0->scikit-plot) (9.4.0)\n",
            "Requirement already satisfied: pyparsing>=2.3.1 in /usr/local/lib/python3.10/dist-packages (from matplotlib>=1.4.0->scikit-plot) (3.1.2)\n",
            "Requirement already satisfied: python-dateutil>=2.7 in /usr/local/lib/python3.10/dist-packages (from matplotlib>=1.4.0->scikit-plot) (2.8.2)\n",
            "Requirement already satisfied: threadpoolctl>=2.0.0 in /usr/local/lib/python3.10/dist-packages (from scikit-learn>=0.18->scikit-plot) (3.3.0)\n",
            "Requirement already satisfied: six>=1.5 in /usr/local/lib/python3.10/dist-packages (from python-dateutil>=2.7->matplotlib>=1.4.0->scikit-plot) (1.16.0)\n",
            "Installing collected packages: scikit-plot\n",
            "Successfully installed scikit-plot-0.3.7\n"
          ]
        }
      ],
      "source": [
        "pip install scikit-plot"
      ]
    },
    {
      "cell_type": "code",
      "execution_count": null,
      "metadata": {
        "colab": {
          "base_uri": "https://localhost:8080/",
          "height": 1000
        },
        "id": "SgClIbSZEBXn",
        "outputId": "cb810bc1-5faf-4c33-f5bb-b65d54092896"
      },
      "outputs": [
        {
          "output_type": "display_data",
          "data": {
            "text/plain": [
              "<Figure size 800x550 with 1 Axes>"
            ],
            "image/png": "[encoded data removed]"
          },
          "metadata": {}
        },
        {
          "output_type": "stream",
          "name": "stdout",
          "text": [
            "Mean Accuracy: 0.94\n"
          ]
        },
        {
          "output_type": "stream",
          "name": "stderr",
          "text": [
            "<ipython-input-121-8f58d52e0d3d>:85: MatplotlibDeprecationWarning: The seaborn styles shipped by Matplotlib are deprecated since 3.6, as they no longer correspond to the styles shipped by seaborn. However, they will remain available as 'seaborn-v0_8-<style>'. Alternatively, directly use the seaborn API instead.\n",
            "  plt.style.use('seaborn')\n"
          ]
        },
        {
          "output_type": "display_data",
          "data": {
            "text/plain": [
              "<Figure size 800x550 with 1 Axes>"
            ],
            "image/png": "[encoded data removed]"
          },
          "metadata": {}
        }
      ],
      "source": [
        "import numpy as np\n",
        "import matplotlib.pyplot as plt\n",
        "from sklearn import svm\n",
        "from sklearn.metrics import accuracy_score\n",
        "import scikitplot as skplt\n",
        "d=len(results)\n",
        "\n",
        "    #X_train_ge=X_train_ge.T\n",
        "\n",
        "\n",
        "# Create an empty list to store accuracy scores\n",
        "accuracy_scores = []\n",
        "probas_list=[]\n",
        "y_predic=[]\n",
        "aucc=[]\n",
        "fpr1=[]\n",
        "tpr1=[]\n",
        "# Run SVM on each dataset and calculate accuracy\n",
        "#for r in results:\n",
        "\n",
        "  #  X_train_ge=X_train[r]\n",
        "  #  X_train_ge=X_train_ge.T\n",
        "    #ytrain = y_train[:,1]\n",
        "\n",
        " #   X_test_ge=X_test[r]\n",
        " #   X_test_ge=X_test_ge.T\n",
        "for r in range(d):\n",
        "    X_train_ge=X_train_m[:,results[r]]\n",
        "    X_test_ge=X_test_m[:,results[r]]\n",
        "    #ytest = y_test2[:,1]\n",
        "\n",
        "     # Create an SVM classifier\n",
        "    #clf = svm.SVC(probability=True)\n",
        "    #clf= LogisticRegression()\n",
        "    clf=linear_model.LogisticRegression(solver=\"liblinear\",random_state=0)\n",
        "\n",
        "    # Fit the classifier to the data\n",
        "    clf.fit(X_train_ge, y_train)\n",
        "    # Make predictions on the same dataset\n",
        "    y_predp = clf.predict_proba(X_test_ge)\n",
        "    y_pred = clf.predict(X_test_ge)\n",
        "    # Calculate accuracy and append to the list\n",
        "    probas_list.append(y_predp)\n",
        "    accuracy = accuracy_score(y_test, y_pred)\n",
        "    y_predic.append(y_pred)\n",
        "    accuracy_scores.append(accuracy)\n",
        "    y_pred_proba = clf.predict_proba(X_test_ge)[::,1]\n",
        "    fpr, tpr, _ = metrics.roc_curve(y_test,  y_pred_proba)\n",
        "    auc = metrics.roc_auc_score(y_test, y_pred_proba)\n",
        "    fpr1.append(fpr)\n",
        "    tpr1.append(tpr)\n",
        "    aucc.append(auc)\n",
        "    #plt.plot(fpr,tpr,label=\"data 1, auc=\"+str(auc))\n",
        "    #plt.legend(loc=4)\n",
        "    #plt.show()\n",
        "\n",
        "clf=linear_model.LogisticRegression(solver=\"liblinear\",random_state=0)\n",
        "clf.fit(X_train_m, y_train)\n",
        "y_pred = clf.predict(X_test_m)\n",
        "accuracy1 = accuracy_score(y_test, y_pred)\n",
        "y_pred_proba = clf.predict_proba(X_test_m)[::,1]\n",
        "fpr, tpr, _ = metrics.roc_curve(y_test,y_pred_proba)\n",
        "\n",
        "fpr1.append(fpr)\n",
        "tpr1.append(tpr)\n",
        "# Plot the accuracy for each run\n",
        "plt.plot(range(1,6), accuracy_scores, marker='o')\n",
        "plt.xlabel('Run')\n",
        "plt.ylabel('Accuracy')\n",
        "plt.title('Accuracy of Logistic on Different Datasets')\n",
        "plt.show()\n",
        "\n",
        "\n",
        "#plt.plot(fpr,tpr,label=\"data 1, auc=\"+str(aucc))\n",
        "#plt.legend(loc=4)\n",
        "#plt.show()\n",
        "\n",
        "# Calculate and display the mean accuracy across runs\n",
        "mean_accuracy = np.max(accuracy_scores)\n",
        "print(\"Mean Accuracy: {:.2f}\".format(mean_accuracy))\n",
        "\n",
        "\n",
        "# matplotlib\n",
        "import matplotlib.pyplot as plt\n",
        "plt.style.use('seaborn')\n",
        "\n",
        "# plot roc curves\n",
        "plt.plot(fpr1[0], tpr1[0], linestyle='--',color='red', label= 'test genetic '+str(accuracy_scores[0]))\n",
        "plt.plot(fpr1[1], tpr1[1], linestyle='--',color='blue', label='test genetic '+str(accuracy_scores[1]))\n",
        "plt.plot(fpr1[2], tpr1[2], linestyle='--',color='green', label='test genetic '+str(accuracy_scores[2]))\n",
        "\n",
        "plt.plot(fpr1[5], tpr1[5], linestyle='--',color='black', label='test maindata '+str(accuracy1))\n",
        "#plt.plot(p_fpr, p_tpr, linestyle='--', color='blue')\n",
        "# title\n",
        "plt.title('ROC curve')\n",
        "# x label\n",
        "plt.xlabel('False Positive Rate')\n",
        "# y label\n",
        "plt.ylabel('True Positive rate')\n",
        "\n",
        "plt.legend(loc='best')\n",
        "#plt.savefig('ROC',dpi=300)\n",
        "plt.show();\n",
        "#image = plt.figure(figsize=(16,10), dpi= 200)\n",
        "#image.savefig('myimage.png',  bbox_inches=\"tight\")\n",
        "#files.download('myimage.png')"
      ]
    },
    {
      "cell_type": "code",
      "execution_count": null,
      "metadata": {
        "colab": {
          "base_uri": "https://localhost:8080/"
        },
        "id": "Tjyudb_oW_em",
        "outputId": "12c0d370-bba7-41ac-f083-9f17e4a26890"
      },
      "outputs": [
        {
          "output_type": "stream",
          "name": "stdout",
          "text": [
            "[0.8125, 0.8125, 0.9375, 0.9375, 0.9375]\n"
          ]
        }
      ],
      "source": [
        "print(accuracy_scores)"
      ]
    },
    {
      "cell_type": "code",
      "execution_count": null,
      "metadata": {
        "colab": {
          "base_uri": "https://localhost:8080/",
          "height": 410
        },
        "id": "9xM-G5EYa7b_",
        "outputId": "b3f0ca8d-4c2b-41fa-e1ec-3bc669f292c7"
      },
      "outputs": [
        {
          "output_type": "display_data",
          "data": {
            "text/plain": [
              "<Figure size 600x400 with 1 Axes>"
            ],
            "image/png": "[encoded data removed]"
          },
          "metadata": {}
        }
      ],
      "source": [
        "skplt.estimators.plot_learning_curve(LogisticRegression(), X_train_ge, y_train,\n",
        "                                     cv=7, shuffle=True, scoring=\"accuracy\",\n",
        "                                     n_jobs=-1, figsize=(6,4), title_fontsize=\"large\", text_fontsize=\"large\",\n",
        "                                     title=\"Digits Classification Learning Curve\");"
      ]
    },
    {
      "cell_type": "code",
      "execution_count": null,
      "metadata": {
        "id": "Ie5GLQRBeiGz"
      },
      "outputs": [],
      "source": [
        "X_train_ge=X_train_m[:,results[0]]\n",
        "X_test_ge=X_test_m[:,results[0]]"
      ]
    },
    {
      "cell_type": "markdown",
      "metadata": {
        "id": "nqUVz7VH7Ra5"
      },
      "source": [
        "# test in felan anjam midam taki"
      ]
    },
    {
      "cell_type": "markdown",
      "metadata": {
        "id": "akQQbXw01dFk"
      },
      "source": [
        "# classification compare"
      ]
    },
    {
      "cell_type": "code",
      "execution_count": null,
      "metadata": {
        "id": "Z8B9cPyM1dFm"
      },
      "outputs": [],
      "source": [
        " clff=linear_model.LogisticRegression(solver=\"liblinear\",random_state=0).fit(X_train_m, y_train)"
      ]
    },
    {
      "cell_type": "code",
      "execution_count": null,
      "metadata": {
        "id": "ukCj5Adz1dFo"
      },
      "outputs": [],
      "source": [
        " #clff1=linear_model.LogisticRegression(solver=\"liblinear\",random_state=0).fit(outlier_datat_t, y_train.iloc[:,1])\n"
      ]
    },
    {
      "cell_type": "code",
      "execution_count": null,
      "metadata": {
        "id": "c4k0u_jPC6rp"
      },
      "outputs": [],
      "source": [
        " clff2=linear_model.LogisticRegression(solver=\"liblinear\",random_state=0).fit(X_train_m[:,results[3]], y_train)\n"
      ]
    },
    {
      "cell_type": "code",
      "execution_count": null,
      "metadata": {
        "colab": {
          "base_uri": "https://localhost:8080/"
        },
        "id": "_cVj39IO1dFp",
        "outputId": "81485bb4-7109-4d23-8bd0-b9de97a1c9d5"
      },
      "outputs": [
        {
          "output_type": "stream",
          "name": "stdout",
          "text": [
            "              precision    recall  f1-score   support\n",
            "\n",
            "           0       1.00      1.00      1.00        46\n",
            "           1       1.00      1.00      1.00        15\n",
            "\n",
            "    accuracy                           1.00        61\n",
            "   macro avg       1.00      1.00      1.00        61\n",
            "weighted avg       1.00      1.00      1.00        61\n",
            "\n",
            "              precision    recall  f1-score   support\n",
            "\n",
            "           0       1.00      1.00      1.00        46\n",
            "           1       1.00      1.00      1.00        15\n",
            "\n",
            "    accuracy                           1.00        61\n",
            "   macro avg       1.00      1.00      1.00        61\n",
            "weighted avg       1.00      1.00      1.00        61\n",
            "\n"
          ]
        }
      ],
      "source": [
        "from sklearn.metrics import classification_report\n",
        "print(classification_report(y_train, clff.predict(X_train_m)))\n",
        "\n",
        "#print(classification_report(y_train.iloc[:,1], clff1.predict(outlier_datat_t)))\n",
        "\n",
        "\n",
        "\n",
        "\n",
        "print(classification_report(y_train, clff2.predict(X_train_m[:,results[3]])))\n"
      ]
    },
    {
      "cell_type": "code",
      "source": [
        "X_test_m[:,results[3]]"
      ],
      "metadata": {
        "colab": {
          "base_uri": "https://localhost:8080/"
        },
        "id": "faTjNUckL7FE",
        "outputId": "edd60ccb-26d0-48c4-fd74-65ceb1b71531"
      },
      "execution_count": null,
      "outputs": [
        {
          "output_type": "execute_result",
          "data": {
            "text/plain": [
              "array([[ 0.20887728, -0.23916811,  0.08161737, ...,  0.0154321 ,\n",
              "         0.63655988, -0.02910798],\n",
              "       [-0.91906005, -0.2322357 ,  0.15649569, ...,  0.42283951,\n",
              "        -0.79699508, -0.1943662 ],\n",
              "       [-0.53263708,  1.35181976,  0.81542493, ..., -0.14506173,\n",
              "         0.07184181,  1.36995305],\n",
              "       ...,\n",
              "       [ 4.7310705 ,  2.56152513,  1.10595283, ..., -6.86728395,\n",
              "         1.08263535,  1.16338028],\n",
              "       [-1.1383812 ,  0.78682842,  1.3260951 , ...,  0.36111111,\n",
              "        -0.33831275,  3.73239437],\n",
              "       [-0.845953  ,  1.31715771,  0.24934481, ...,  0.44753086,\n",
              "        -0.27320611,  4.62629108]])"
            ]
          },
          "metadata": {},
          "execution_count": 123
        }
      ]
    },
    {
      "cell_type": "code",
      "execution_count": null,
      "metadata": {
        "id": "TOndXz7t1dFs"
      },
      "outputs": [],
      "source": [
        "from sklearn.metrics import classification_report\n",
        "#save resualt in file\n",
        "with open(\"outputgenetic2.txt\", \"a\") as f:\n",
        "  print (\"------------------------test logestic--------------------\", file=f)\n",
        "  print(classification_report(y_test_m, clff.predict(X_test_m)), file=f)\n",
        "\n",
        "  print (\"------------------------test feature select genetic  logestic--------------------\", file=f)\n",
        "  print(classification_report(y_test_m, clff2.predict(X_test_m[:,results[3]])), file=f)\n",
        "\n",
        "\n"
      ]
    },
    {
      "cell_type": "code",
      "execution_count": null,
      "metadata": {
        "colab": {
          "base_uri": "https://localhost:8080/"
        },
        "id": "40VV9k9aJ7pY",
        "outputId": "8b8783dc-bb2a-4310-c2fb-72a1461d0216"
      },
      "outputs": [
        {
          "output_type": "stream",
          "name": "stdout",
          "text": [
            "Accuracy: 0.9375\n",
            "[[11  1]\n",
            " [ 0  4]]\n"
          ]
        }
      ],
      "source": [
        "\n",
        "from sklearn import metrics\n",
        "y_pred = clff2.predict(X_test_m[:,results[3]])\n",
        "cnf_matrix = metrics.confusion_matrix(y_test_m, y_pred)\n",
        "\n",
        "print(\"Accuracy:\",metrics.accuracy_score(y_test_m,y_pred))\n",
        "print(cnf_matrix)"
      ]
    },
    {
      "cell_type": "markdown",
      "metadata": {
        "id": "XT0K3rE7Vljc"
      },
      "source": [
        "#confusion mat"
      ]
    },
    {
      "cell_type": "code",
      "execution_count": null,
      "metadata": {
        "colab": {
          "base_uri": "https://localhost:8080/",
          "height": 819
        },
        "id": "f3CZhShVrjhJ",
        "outputId": "fdcbbdb4-aa0d-4456-bb00-aeff88c2b070"
      },
      "outputs": [
        {
          "output_type": "stream",
          "name": "stderr",
          "text": [
            "<ipython-input-178-cd27408b206e>:12: UserWarning: FixedFormatter should only be used together with FixedLocator\n",
            "  ax.set_xticklabels([''] + labels)\n",
            "<ipython-input-178-cd27408b206e>:13: UserWarning: FixedFormatter should only be used together with FixedLocator\n",
            "  ax.set_yticklabels([''] + labels)\n"
          ]
        },
        {
          "output_type": "stream",
          "name": "stdout",
          "text": [
            "Accuracy: 0.9375\n"
          ]
        },
        {
          "output_type": "display_data",
          "data": {
            "text/plain": [
              "<Figure size 300x300 with 1 Axes>"
            ],
            "image/png": "[encoded data removed]"
          },
          "metadata": {}
        },
        {
          "output_type": "stream",
          "name": "stderr",
          "text": [
            "<ipython-input-178-cd27408b206e>:23: UserWarning: FixedFormatter should only be used together with FixedLocator\n",
            "  ax.set_xticklabels([''] + labels)\n",
            "<ipython-input-178-cd27408b206e>:24: UserWarning: FixedFormatter should only be used together with FixedLocator\n",
            "  ax.set_yticklabels([''] + labels)\n"
          ]
        },
        {
          "output_type": "stream",
          "name": "stdout",
          "text": [
            "Accuracy: 1.0\n"
          ]
        },
        {
          "output_type": "display_data",
          "data": {
            "text/plain": [
              "<Figure size 300x300 with 1 Axes>"
            ],
            "image/png": "[encoded data removed]"
          },
          "metadata": {}
        }
      ],
      "source": [
        "from mlxtend.plotting import plot_confusion_matrix\n",
        "import matplotlib.pyplot as plt\n",
        "import numpy as np\n",
        "from sklearn.metrics import confusion_matrix\n",
        "\n",
        "labels = ['DLBCL', 'FL']\n",
        "y_pred = clff2.predict(X_test_m[:,results[3]])\n",
        "cnf_matrix = metrics.confusion_matrix(y_test_m, y_pred)\n",
        "\n",
        "fig, ax = plot_confusion_matrix(conf_mat=cnf_matrix,figsize=(3, 3),show_absolute=True,show_normed=True)\n",
        "plt.title('Confusion matrix of genetic feature selection on logestic')\n",
        "ax.set_xticklabels([''] + labels)\n",
        "ax.set_yticklabels([''] + labels)\n",
        "plt.xlabel('Predicted')\n",
        "plt.ylabel('True')\n",
        "print(\"Accuracy:\",metrics.accuracy_score(y_test_m,y_pred))\n",
        "plt.show()\n",
        "\n",
        "\n",
        "cm = confusion_matrix(y_test_m, clff.predict(X_test_m))\n",
        "fig, ax = plot_confusion_matrix(conf_mat=cm,figsize=(3, 3),show_absolute=True,show_normed=True)\n",
        "plt.title('Confusion matrix of main data on logestic')\n",
        "ax.set_xticklabels([''] + labels)\n",
        "ax.set_yticklabels([''] + labels)\n",
        "plt.xlabel('Predicted')\n",
        "plt.ylabel('True')\n",
        "print(\"Accuracy:\",metrics.accuracy_score(y_test_m, clff.predict(X_test_m)))\n",
        "plt.show()"
      ]
    },
    {
      "cell_type": "code",
      "execution_count": null,
      "metadata": {
        "colab": {
          "base_uri": "https://localhost:8080/",
          "height": 1000
        },
        "id": "bMqomoRbQycc",
        "outputId": "3bb71625-db2e-4c52-8861-6ae439314ea8"
      },
      "outputs": [
        {
          "output_type": "display_data",
          "data": {
            "text/plain": [
              "<Figure size 600x600 with 2 Axes>"
            ],
            "image/png": "[encoded data removed]"
          },
          "metadata": {}
        },
        {
          "output_type": "display_data",
          "data": {
            "text/plain": [
              "<Figure size 600x600 with 2 Axes>"
            ],
            "image/png": "[encoded data removed]"
          },
          "metadata": {}
        }
      ],
      "source": [
        "plt.figure(figsize=(6, 6))\n",
        "plt.title('main train two fearture selected by VAE as outlier features')\n",
        "plt.scatter(outlier_datat_t[:, 0],outlier_datat_t[:, 1], c=y_train_m)\n",
        "\n",
        "plt.colorbar()\n",
        "plt.show()\n",
        "plt.figure(figsize=(6, 6))\n",
        "plt.title('main train two fearture not selected ')\n",
        "plt.scatter(X_train_m[:, 1],X_train_m[:, 2], c=y_train_m)\n",
        "\n",
        "plt.colorbar()\n",
        "plt.show()\n",
        "\n"
      ]
    },
    {
      "cell_type": "code",
      "source": [
        "\n",
        "outlier_datat=outlier_datat.T\n",
        "print(outlier_datat.shape,X_train_m.shape)"
      ],
      "metadata": {
        "colab": {
          "base_uri": "https://localhost:8080/"
        },
        "id": "hWx8CqYmVA7V",
        "outputId": "c3e70da6-4e4a-44be-b9b4-20c5126ccf6a"
      },
      "execution_count": null,
      "outputs": [
        {
          "output_type": "stream",
          "name": "stdout",
          "text": [
            "(61, 3535) (61, 7070)\n"
          ]
        }
      ]
    },
    {
      "cell_type": "code",
      "execution_count": null,
      "metadata": {
        "colab": {
          "base_uri": "https://localhost:8080/",
          "height": 1000
        },
        "id": "8axFO9EbbtQu",
        "outputId": "f3f97b67-1d37-4478-ad8a-c059c13a1274"
      },
      "outputs": [
        {
          "output_type": "stream",
          "name": "stdout",
          "text": [
            "3\n",
            "4\n",
            "[-0.63101604  2.19251337 -0.11764706 -0.44385027  1.78609626 -0.13903743\n",
            "  4.09090909  2.27807487  0.43315508  0.96256684  0.21925134 -0.3315508\n",
            "  0.          1.17647059 -0.23529412  0.19251337 -0.29411765  0.10695187\n",
            "  0.79144385  0.1657754   0.02139037 -0.60962567 -0.5026738  -0.05882353\n",
            "  0.11229947 -0.00534759 -0.07486631  2.12299465 -0.70053476 -0.5828877\n",
            " -0.25668449 -0.18716578 -0.09090909  0.12834225 -0.19786096 -0.28342246\n",
            " -0.39572193  0.26737968  0.64705882 -0.06951872 -0.1657754  -0.17647059\n",
            "  0.20320856  0.86631016  1.60427807  0.03743316  0.90909091 -0.48128342\n",
            "  0.39037433 -0.06951872  1.03208556 -0.26737968  0.88770053  0.32620321\n",
            "  1.02673797 -0.20855615 -0.24064171  1.98930481  1.39572193 -0.04812834\n",
            " -0.12299465]\n",
            "out [-0.63101604  2.19251337 -0.11764706 -0.44385027  1.78609626 -0.13903743\n",
            "  4.09090909  2.27807487  0.43315508  0.96256684  0.21925134 -0.3315508\n",
            "  0.          1.17647059 -0.23529412  0.19251337 -0.29411765  0.10695187\n",
            "  0.79144385  0.1657754   0.02139037 -0.60962567 -0.5026738  -0.05882353\n",
            "  0.11229947 -0.00534759 -0.07486631  2.12299465 -0.70053476 -0.5828877\n",
            " -0.25668449 -0.18716578 -0.09090909  0.12834225 -0.19786096 -0.28342246\n",
            " -0.39572193  0.26737968  0.64705882 -0.06951872 -0.1657754  -0.17647059\n",
            "  0.20320856  0.86631016  1.60427807  0.03743316  0.90909091 -0.48128342\n",
            "  0.39037433 -0.06951872  1.03208556 -0.26737968  0.88770053  0.32620321\n",
            "  1.02673797 -0.20855615 -0.24064171  1.98930481  1.39572193 -0.04812834\n",
            " -0.12299465]\n",
            "(61, 3535) (61, 7070)\n"
          ]
        },
        {
          "output_type": "display_data",
          "data": {
            "text/plain": [
              "<Figure size 600x400 with 1 Axes>"
            ],
            "image/png": "[encoded data removed]"
          },
          "metadata": {}
        },
        {
          "output_type": "display_data",
          "data": {
            "text/plain": [
              "<Figure size 600x400 with 1 Axes>"
            ],
            "image/png": "[encoded data removed]"
          },
          "metadata": {}
        }
      ],
      "source": [
        "import numpy as np\n",
        "import seaborn as sns\n",
        "import matplotlib.pyplot as plt\n",
        "first=outlier_indicest[0]\n",
        "second=outlier_indicest[1]\n",
        "\n",
        "print(first)\n",
        "print(second)\n",
        "print (X_train_m[:,3])\n",
        "print (\"out\",outlier_datat[:,0])\n",
        "print(outlier_datat.shape,X_train_m.shape)\n",
        "#b = np.where(outlier_datat[:,:]==X_train[:,first])\n",
        "#print(b)\n",
        "\n",
        "fig, ax = plt.subplots(figsize=(6, 4))\n",
        "ax.scatter(X_train_m[:,first], X_train_m[:,second])\n",
        "ax.set_xlabel('(first feature selected)')\n",
        "ax.set_ylabel('(second feature selected )')\n",
        "plt.show()\n",
        "#df_train.columns[0]\n",
        "\n",
        "\n",
        "# Scatter plot without outliers\n",
        "fig, ax_no_outliers = plt.subplots(figsize=(6, 4))\n",
        "ax_no_outliers.scatter(outlier_datat[:,0], outlier_datat[:,1])\n",
        "ax_no_outliers.set_xlabel('(first feature selected with vae)')\n",
        "ax_no_outliers.set_ylabel('(second feature selected with vae)')\n",
        "plt.show()\n",
        "\n"
      ]
    },
    {
      "cell_type": "code",
      "execution_count": null,
      "metadata": {
        "colab": {
          "base_uri": "https://localhost:8080/"
        },
        "id": "MwCGILuPK1c-",
        "outputId": "6a5c3ca6-612c-4f8c-c8d0-40416dcb0642"
      },
      "outputs": [
        {
          "output_type": "stream",
          "name": "stdout",
          "text": [
            "(61, 7070)\n",
            "(7070, 61)\n"
          ]
        }
      ],
      "source": [
        "print(X_train.shape)\n",
        "X_train=X_train.T\n",
        "print(X_train.shape)"
      ]
    },
    {
      "cell_type": "code",
      "execution_count": null,
      "metadata": {
        "colab": {
          "base_uri": "https://localhost:8080/",
          "height": 663
        },
        "id": "UYrziDpOP9Bh",
        "outputId": "6557f31b-4ead-4b28-ce4e-8a68e762f471"
      },
      "outputs": [
        {
          "output_type": "stream",
          "name": "stdout",
          "text": [
            "[t-SNE] Computing 60 nearest neighbors...\n",
            "[t-SNE] Indexed 61 samples in 0.001s...\n",
            "[t-SNE] Computed neighbors for 61 samples in 0.056s...\n",
            "[t-SNE] Computed conditional probabilities for sample 61 / 61\n",
            "[t-SNE] Mean sigma: 45.250698\n",
            "[t-SNE] KL divergence after 250 iterations with early exaggeration: 54.364540\n",
            "[t-SNE] KL divergence after 800 iterations: 0.147876\n"
          ]
        },
        {
          "output_type": "execute_result",
          "data": {
            "text/plain": [
              "[Text(0.5, 1.0, 'main train data T-SNE projection')]"
            ]
          },
          "metadata": {},
          "execution_count": 188
        },
        {
          "output_type": "display_data",
          "data": {
            "text/plain": [
              "<Figure size 800x550 with 1 Axes>"
            ],
            "image/png": "[encoded data removed]"
          },
          "metadata": {}
        }
      ],
      "source": [
        "from sklearn.manifold import TSNE\n",
        "tsne = TSNE(n_components=2, verbose=1, random_state=123)\n",
        "z = tsne.fit_transform(X_train_m)\n",
        "df = pd.DataFrame()\n",
        "df[\"y\"] = y_train_m\n",
        "df[\"comp-1\"] = z[:,0]\n",
        "df[\"comp-2\"] = z[:,1]\n",
        "\n",
        "sns.scatterplot(x=\"comp-1\", y=\"comp-2\", hue=df.y.tolist(),\n",
        "                palette=sns.color_palette(\"hls\", 2),\n",
        "                data=df).set(title=\"main train data T-SNE projection\")"
      ]
    },
    {
      "cell_type": "code",
      "execution_count": null,
      "metadata": {
        "colab": {
          "base_uri": "https://localhost:8080/"
        },
        "id": "N2aYJnFvLhGA",
        "outputId": "6c753ef0-15a9-4f6a-a99e-b78ce1fde3b5"
      },
      "outputs": [
        {
          "name": "stdout",
          "output_type": "stream",
          "text": [
            "(38, 3564)\n",
            "(3564, 38)\n"
          ]
        }
      ],
      "source": [
        "print(outlier_datat.shape)\n",
        "outlier_datat=outlier_datat.T\n",
        "print(outlier_datat.shape)"
      ]
    }
  ],
  "metadata": {
    "accelerator": "GPU",
    "colab": {
      "gpuType": "T4",
      "provenance": [],
      "include_colab_link": true
    },
    "kernelspec": {
      "display_name": "Python 3",
      "name": "python3"
    },
    "language_info": {
      "codemirror_mode": {
        "name": "ipython",
        "version": 3
      },
      "file_extension": ".py",
      "mimetype": "text/x-python",
      "name": "python",
      "nbconvert_exporter": "python",
      "pygments_lexer": "ipython3",
      "version": "3.6.6"
    }
  },
  "nbformat": 4,
  "nbformat_minor": 0
}